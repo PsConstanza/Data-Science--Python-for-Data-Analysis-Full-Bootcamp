{
 "cells": [
  {
   "cell_type": "markdown",
   "id": "eb5b285f",
   "metadata": {},
   "source": [
    "# Classes and Instances\n",
    "#### Class in Python\n",
    "* Python is an Object-Oriented Programming language\n",
    "* Class is user-defined data structure for creating instances\n",
    "* Syntax: **class** ClassName:\n",
    "* Create instances or objects based on a class\n",
    "* Instance methods: functions belongs to a class\n",
    "* Attributes and Instance attributes\n",
    "* __init__(self) to know the initial state and tells python what the values are"
   ]
  },
  {
   "cell_type": "code",
   "execution_count": 1,
   "id": "d1e58805",
   "metadata": {},
   "outputs": [],
   "source": [
    "class Car:\n",
    "    pass"
   ]
  },
  {
   "cell_type": "code",
   "execution_count": 2,
   "id": "6e3846c3",
   "metadata": {},
   "outputs": [],
   "source": [
    "model1 = Car()"
   ]
  },
  {
   "cell_type": "code",
   "execution_count": 3,
   "id": "d490d7cb",
   "metadata": {},
   "outputs": [],
   "source": [
    "class Car:\n",
    "    color = 'black'"
   ]
  },
  {
   "cell_type": "code",
   "execution_count": 4,
   "id": "b8422525",
   "metadata": {},
   "outputs": [],
   "source": [
    "model1 = Car()"
   ]
  },
  {
   "cell_type": "code",
   "execution_count": 5,
   "id": "61f3fe44",
   "metadata": {},
   "outputs": [],
   "source": [
    "class Car:\n",
    "    def __init__(self, name, color):\n",
    "        self.name = name\n",
    "        self.color = color"
   ]
  },
  {
   "cell_type": "code",
   "execution_count": 6,
   "id": "a3637a05",
   "metadata": {},
   "outputs": [],
   "source": [
    "model1 = Car('A1', 'black')"
   ]
  },
  {
   "cell_type": "code",
   "execution_count": 8,
   "id": "f83a6f71",
   "metadata": {},
   "outputs": [
    {
     "name": "stdout",
     "output_type": "stream",
     "text": [
      "A1\n",
      "black\n"
     ]
    }
   ],
   "source": [
    "print(model1.name)\n",
    "print(model1.color)"
   ]
  },
  {
   "cell_type": "code",
   "execution_count": 20,
   "id": "1955a95f",
   "metadata": {},
   "outputs": [],
   "source": [
    "class Car:\n",
    "    def __init__(self, name, color):\n",
    "        self.name = name\n",
    "        self.color = color\n",
    "    def message(self):\n",
    "        print('The car name is '+ self.name)"
   ]
  },
  {
   "cell_type": "code",
   "execution_count": 21,
   "id": "963587df",
   "metadata": {},
   "outputs": [],
   "source": [
    "model1 = Car('A1', 'White')"
   ]
  },
  {
   "cell_type": "code",
   "execution_count": 22,
   "id": "17f0bf3c",
   "metadata": {},
   "outputs": [
    {
     "name": "stdout",
     "output_type": "stream",
     "text": [
      "The car name is A1\n"
     ]
    }
   ],
   "source": [
    "model1.message()"
   ]
  },
  {
   "cell_type": "code",
   "execution_count": 23,
   "id": "bc78a704",
   "metadata": {},
   "outputs": [
    {
     "name": "stdout",
     "output_type": "stream",
     "text": [
      "Red\n"
     ]
    }
   ],
   "source": [
    "model1.color = 'Red'\n",
    "print(model1.color)"
   ]
  },
  {
   "cell_type": "code",
   "execution_count": 24,
   "id": "1e6f904e",
   "metadata": {},
   "outputs": [],
   "source": [
    "# del model1.color\n",
    "del model1"
   ]
  },
  {
   "cell_type": "markdown",
   "id": "115c9dda",
   "metadata": {},
   "source": [
    "# Exploring Inheritance\n",
    "#### Inheritance\n",
    "Creating a class based on another class to inherit all methods and properties"
   ]
  },
  {
   "cell_type": "code",
   "execution_count": 27,
   "id": "cfbdd84c",
   "metadata": {},
   "outputs": [],
   "source": [
    "class Car:\n",
    "    def __init__(self, name, color):\n",
    "        self.name = name\n",
    "        self.color = color\n",
    "    def message(self):\n",
    "        print(self.name, self.color)"
   ]
  },
  {
   "cell_type": "code",
   "execution_count": 28,
   "id": "b1f9bf6f",
   "metadata": {},
   "outputs": [
    {
     "name": "stdout",
     "output_type": "stream",
     "text": [
      "X1 White\n"
     ]
    }
   ],
   "source": [
    "model1 = Car('X1', 'White')\n",
    "model1.message()"
   ]
  },
  {
   "cell_type": "code",
   "execution_count": 29,
   "id": "e8bc7214",
   "metadata": {},
   "outputs": [],
   "source": [
    "class Car1(Car):\n",
    "    pass"
   ]
  },
  {
   "cell_type": "code",
   "execution_count": 30,
   "id": "42043a46",
   "metadata": {},
   "outputs": [
    {
     "name": "stdout",
     "output_type": "stream",
     "text": [
      "B1 Blue\n"
     ]
    }
   ],
   "source": [
    "model1 = Car1('B1', 'Blue')\n",
    "model1.message()"
   ]
  },
  {
   "cell_type": "code",
   "execution_count": 36,
   "id": "f52f344a",
   "metadata": {},
   "outputs": [],
   "source": [
    "class Car1(Car):\n",
    "    def __init__(self, name, color):\n",
    "        super().__init__(name, color)"
   ]
  },
  {
   "cell_type": "code",
   "execution_count": 37,
   "id": "9afc6f84",
   "metadata": {},
   "outputs": [
    {
     "name": "stdout",
     "output_type": "stream",
     "text": [
      "X2 Yellow\n"
     ]
    }
   ],
   "source": [
    "model2 = Car1('X2', 'Yellow')\n",
    "model2.message()"
   ]
  },
  {
   "cell_type": "code",
   "execution_count": 38,
   "id": "d84069d1",
   "metadata": {},
   "outputs": [
    {
     "name": "stdout",
     "output_type": "stream",
     "text": [
      "X3 Green\n"
     ]
    }
   ],
   "source": [
    "model3 = Car1('X3', 'Green')\n",
    "model3.message()"
   ]
  },
  {
   "cell_type": "code",
   "execution_count": 39,
   "id": "29afb0d5",
   "metadata": {},
   "outputs": [
    {
     "name": "stdout",
     "output_type": "stream",
     "text": [
      "The value of n from Child is 50\n"
     ]
    }
   ],
   "source": [
    "class Parent:\n",
    "    def __init__(self):\n",
    "        self.calcI(10)\n",
    "        \n",
    "    def calcI(self, n):\n",
    "        self.n = 3 * n;\n",
    " \n",
    "class Child(Parent):\n",
    "    def __init__(self):\n",
    "        super().__init__()\n",
    "        print(\"The value of n from Child is\", self.n)\n",
    "        \n",
    "    def calcI(self, n):\n",
    "        self.n = 5 * n;\n",
    " \n",
    "O1 = Child()"
   ]
  },
  {
   "cell_type": "code",
   "execution_count": null,
   "id": "59e897a9",
   "metadata": {},
   "outputs": [],
   "source": []
  }
 ],
 "metadata": {
  "kernelspec": {
   "display_name": "Python 3 (ipykernel)",
   "language": "python",
   "name": "python3"
  },
  "language_info": {
   "codemirror_mode": {
    "name": "ipython",
    "version": 3
   },
   "file_extension": ".py",
   "mimetype": "text/x-python",
   "name": "python",
   "nbconvert_exporter": "python",
   "pygments_lexer": "ipython3",
   "version": "3.10.9"
  }
 },
 "nbformat": 4,
 "nbformat_minor": 5
}
