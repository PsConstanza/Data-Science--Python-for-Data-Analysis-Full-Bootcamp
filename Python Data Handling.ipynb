{
 "cells": [
  {
   "cell_type": "markdown",
   "id": "9c04a081",
   "metadata": {},
   "source": [
    "# The io Module"
   ]
  },
  {
   "cell_type": "markdown",
   "id": "e52ea52b",
   "metadata": {},
   "source": [
    "Using The **io** module to implement file-like object in memory... Store data in memory and handling it"
   ]
  },
  {
   "cell_type": "code",
   "execution_count": 7,
   "id": "2c5bf5b4",
   "metadata": {},
   "outputs": [],
   "source": [
    "import io"
   ]
  },
  {
   "cell_type": "code",
   "execution_count": 21,
   "id": "cc49b779",
   "metadata": {},
   "outputs": [],
   "source": [
    "new_text = 'Learning python and data analysis'"
   ]
  },
  {
   "cell_type": "code",
   "execution_count": 22,
   "id": "d67549ec",
   "metadata": {},
   "outputs": [],
   "source": [
    "file = io.StringIO(new_text)"
   ]
  },
  {
   "cell_type": "code",
   "execution_count": 23,
   "id": "dee50971",
   "metadata": {},
   "outputs": [
    {
     "data": {
      "text/plain": [
       "'Learning python and data analysis'"
      ]
     },
     "execution_count": 23,
     "metadata": {},
     "output_type": "execute_result"
    }
   ],
   "source": [
    "file.read()"
   ]
  },
  {
   "cell_type": "code",
   "execution_count": 24,
   "id": "3f09d159",
   "metadata": {},
   "outputs": [
    {
     "data": {
      "text/plain": [
       "34"
      ]
     },
     "execution_count": 24,
     "metadata": {},
     "output_type": "execute_result"
    }
   ],
   "source": [
    "file.write(\" Master the Data handling concepts\")"
   ]
  },
  {
   "cell_type": "code",
   "execution_count": 25,
   "id": "f9ca6c67",
   "metadata": {},
   "outputs": [
    {
     "data": {
      "text/plain": [
       "0"
      ]
     },
     "execution_count": 25,
     "metadata": {},
     "output_type": "execute_result"
    }
   ],
   "source": [
    "file.seek(0)"
   ]
  },
  {
   "cell_type": "code",
   "execution_count": 26,
   "id": "6c29990f",
   "metadata": {},
   "outputs": [
    {
     "data": {
      "text/plain": [
       "'Learning python and data analysis Master the Data handling concepts'"
      ]
     },
     "execution_count": 26,
     "metadata": {},
     "output_type": "execute_result"
    }
   ],
   "source": [
    "file.read()"
   ]
  },
  {
   "cell_type": "markdown",
   "id": "023644ed",
   "metadata": {},
   "source": [
    "# The os Module"
   ]
  },
  {
   "cell_type": "markdown",
   "id": "46eb49d3",
   "metadata": {},
   "source": [
    "* Using the **os** module to interact with operating system\n",
    "* Reading, writing and deleting files\n",
    "* Working with directories and locations"
   ]
  },
  {
   "cell_type": "code",
   "execution_count": 27,
   "id": "1f9ce433",
   "metadata": {},
   "outputs": [],
   "source": [
    "import os"
   ]
  },
  {
   "cell_type": "code",
   "execution_count": 28,
   "id": "3bf8065d",
   "metadata": {},
   "outputs": [
    {
     "data": {
      "text/plain": [
       "'C:\\\\Users\\\\Ckonny\\\\Documents\\\\ Data Science_Python for Data Analysis Full Bootcamp'"
      ]
     },
     "execution_count": 28,
     "metadata": {},
     "output_type": "execute_result"
    }
   ],
   "source": [
    "os.getcwd()"
   ]
  },
  {
   "cell_type": "code",
   "execution_count": 29,
   "id": "c2dfcae4",
   "metadata": {},
   "outputs": [
    {
     "data": {
      "text/plain": [
       "['.ipynb_checkpoints',\n",
       " 'Advanced Foundations.ipynb',\n",
       " 'Object-Oriented Programming.ipynb',\n",
       " 'Python Data Handling.ipynb',\n",
       " 'Python Data Structures.ipynb',\n",
       " 'The Basics of Python.ipynb',\n",
       " 'The Fundamentals of Python.ipynb']"
      ]
     },
     "execution_count": 29,
     "metadata": {},
     "output_type": "execute_result"
    }
   ],
   "source": [
    "os.listdir()"
   ]
  },
  {
   "cell_type": "markdown",
   "id": "ee19b7e0",
   "metadata": {},
   "source": [
    "# The shutil module"
   ]
  },
  {
   "cell_type": "markdown",
   "id": "b9f5e194",
   "metadata": {},
   "source": [
    "Using  the **shutil** module to move data file to different directories and folders"
   ]
  },
  {
   "cell_type": "code",
   "execution_count": 30,
   "id": "28be5dc7",
   "metadata": {},
   "outputs": [],
   "source": [
    "import shutil"
   ]
  },
  {
   "cell_type": "code",
   "execution_count": 31,
   "id": "c5773ee3",
   "metadata": {},
   "outputs": [
    {
     "data": {
      "text/plain": [
       "'.\\\\Demo_Ex\\\\main.txt'"
      ]
     },
     "execution_count": 31,
     "metadata": {},
     "output_type": "execute_result"
    }
   ],
   "source": [
    "shutil.move('main.txt','.\\Demo_Ex')"
   ]
  },
  {
   "cell_type": "code",
   "execution_count": 32,
   "id": "46f2b170",
   "metadata": {},
   "outputs": [
    {
     "data": {
      "text/plain": [
       "['main.txt']"
      ]
     },
     "execution_count": 32,
     "metadata": {},
     "output_type": "execute_result"
    }
   ],
   "source": [
    "os.listdir('.\\Demo_Ex')"
   ]
  },
  {
   "cell_type": "code",
   "execution_count": 33,
   "id": "9d3eeb80",
   "metadata": {},
   "outputs": [
    {
     "data": {
      "text/plain": [
       "'C:\\\\Users\\\\Ckonny\\\\Documents\\\\ Data Science_Python for Data Analysis Full Bootcamp\\\\main.txt'"
      ]
     },
     "execution_count": 33,
     "metadata": {},
     "output_type": "execute_result"
    }
   ],
   "source": [
    "shutil.move('.\\Demo_Ex\\main.txt', os.getcwd())"
   ]
  },
  {
   "cell_type": "code",
   "execution_count": 34,
   "id": "e9fc0789",
   "metadata": {},
   "outputs": [
    {
     "data": {
      "text/plain": [
       "[]"
      ]
     },
     "execution_count": 34,
     "metadata": {},
     "output_type": "execute_result"
    }
   ],
   "source": [
    "os.listdir('.\\Demo_Ex')"
   ]
  },
  {
   "cell_type": "code",
   "execution_count": 36,
   "id": "af9088ae",
   "metadata": {},
   "outputs": [
    {
     "data": {
      "text/plain": [
       "['.ipynb_checkpoints',\n",
       " 'Advanced Foundations.ipynb',\n",
       " 'Demo_Ex',\n",
       " 'main.txt',\n",
       " 'Object-Oriented Programming.ipynb',\n",
       " 'Python Data Handling.ipynb',\n",
       " 'Python Data Structures.ipynb',\n",
       " 'The Basics of Python.ipynb',\n",
       " 'The Fundamentals of Python.ipynb']"
      ]
     },
     "execution_count": 36,
     "metadata": {},
     "output_type": "execute_result"
    }
   ],
   "source": [
    "os.listdir()"
   ]
  },
  {
   "cell_type": "markdown",
   "id": "c0a67717",
   "metadata": {},
   "source": [
    "# The send2trash Module"
   ]
  },
  {
   "cell_type": "markdown",
   "id": "3f72ff7f",
   "metadata": {},
   "source": [
    "* Using the **sendtrash** module to send deleted files to the trash bin instead of removing file permanently\n",
    "* Installation: **!pip install send2trash**"
   ]
  },
  {
   "cell_type": "code",
   "execution_count": 37,
   "id": "d763b3b2",
   "metadata": {},
   "outputs": [
    {
     "name": "stdout",
     "output_type": "stream",
     "text": [
      "Requirement already satisfied: send2trash in c:\\users\\ckonny\\anaconda3\\lib\\site-packages (1.8.0)\n"
     ]
    }
   ],
   "source": [
    "!pip install send2trash"
   ]
  },
  {
   "cell_type": "code",
   "execution_count": 38,
   "id": "6c6cbf6e",
   "metadata": {},
   "outputs": [],
   "source": [
    "import send2trash"
   ]
  },
  {
   "cell_type": "code",
   "execution_count": 40,
   "id": "1c4ef8ab",
   "metadata": {},
   "outputs": [
    {
     "data": {
      "text/plain": [
       "['.ipynb_checkpoints',\n",
       " 'Advanced Foundations.ipynb',\n",
       " 'Demo_Ex',\n",
       " 'main.txt',\n",
       " 'Object-Oriented Programming.ipynb',\n",
       " 'Python Data Handling.ipynb',\n",
       " 'Python Data Structures.ipynb',\n",
       " 'The Basics of Python.ipynb',\n",
       " 'The Fundamentals of Python.ipynb']"
      ]
     },
     "execution_count": 40,
     "metadata": {},
     "output_type": "execute_result"
    }
   ],
   "source": [
    "os.listdir()\n",
    "# debemos tener un archivo main.txt para probar"
   ]
  },
  {
   "cell_type": "code",
   "execution_count": 41,
   "id": "6d2974ea",
   "metadata": {},
   "outputs": [
    {
     "data": {
      "text/plain": [
       "['.ipynb_checkpoints',\n",
       " 'Advanced Foundations.ipynb',\n",
       " 'Demo_Ex',\n",
       " 'Object-Oriented Programming.ipynb',\n",
       " 'Python Data Handling.ipynb',\n",
       " 'Python Data Structures.ipynb',\n",
       " 'The Basics of Python.ipynb',\n",
       " 'The Fundamentals of Python.ipynb']"
      ]
     },
     "execution_count": 41,
     "metadata": {},
     "output_type": "execute_result"
    }
   ],
   "source": [
    "send2trash.send2trash('main.txt')\n",
    "os.listdir()"
   ]
  },
  {
   "cell_type": "markdown",
   "id": "492844fc",
   "metadata": {},
   "source": [
    "# The zipfile module"
   ]
  },
  {
   "cell_type": "markdown",
   "id": "c5be9409",
   "metadata": {},
   "source": [
    "* Using the **zipfile** module to compress and extract files and folders\n",
    "* import **zipfile**"
   ]
  },
  {
   "cell_type": "code",
   "execution_count": 42,
   "id": "23881bdd",
   "metadata": {},
   "outputs": [],
   "source": [
    "new_file = open('demo1.txt', 'w+')"
   ]
  },
  {
   "cell_type": "code",
   "execution_count": 43,
   "id": "2112f450",
   "metadata": {},
   "outputs": [
    {
     "data": {
      "text/plain": [
       "14"
      ]
     },
     "execution_count": 43,
     "metadata": {},
     "output_type": "execute_result"
    }
   ],
   "source": [
    "new_file.write('This is demo 1')"
   ]
  },
  {
   "cell_type": "code",
   "execution_count": 45,
   "id": "c59dde77",
   "metadata": {},
   "outputs": [],
   "source": [
    "new_file.close()"
   ]
  },
  {
   "cell_type": "code",
   "execution_count": 46,
   "id": "4c0b26ae",
   "metadata": {},
   "outputs": [],
   "source": [
    "new_file = open('demo2.txt', 'w+')"
   ]
  },
  {
   "cell_type": "code",
   "execution_count": 47,
   "id": "6688b0b5",
   "metadata": {},
   "outputs": [
    {
     "data": {
      "text/plain": [
       "14"
      ]
     },
     "execution_count": 47,
     "metadata": {},
     "output_type": "execute_result"
    }
   ],
   "source": [
    "new_file.write('This is demo 2')"
   ]
  },
  {
   "cell_type": "code",
   "execution_count": 48,
   "id": "a7c44ca3",
   "metadata": {},
   "outputs": [],
   "source": [
    "new_file.close()"
   ]
  },
  {
   "cell_type": "code",
   "execution_count": 49,
   "id": "2a544579",
   "metadata": {},
   "outputs": [],
   "source": [
    "import zipfile"
   ]
  },
  {
   "cell_type": "code",
   "execution_count": 50,
   "id": "70c4a976",
   "metadata": {},
   "outputs": [],
   "source": [
    "new_comp = zipfile.ZipFile('new_comp.zip','w')"
   ]
  },
  {
   "cell_type": "code",
   "execution_count": 51,
   "id": "ebd349f9",
   "metadata": {},
   "outputs": [],
   "source": [
    "new_comp.write('demo1.txt', compress_type = zipfile.ZIP_DEFLATED)"
   ]
  },
  {
   "cell_type": "code",
   "execution_count": 52,
   "id": "228cb551",
   "metadata": {},
   "outputs": [],
   "source": [
    "new_comp.write('demo2.txt', compress_type = zipfile.ZIP_DEFLATED)"
   ]
  },
  {
   "cell_type": "code",
   "execution_count": 53,
   "id": "96ca4dec",
   "metadata": {},
   "outputs": [],
   "source": [
    "new_comp.close()"
   ]
  },
  {
   "cell_type": "code",
   "execution_count": 55,
   "id": "33328d56",
   "metadata": {},
   "outputs": [],
   "source": [
    "new_extract = zipfile.ZipFile('new_comp.zip','r')"
   ]
  },
  {
   "cell_type": "code",
   "execution_count": 56,
   "id": "dc8ed273",
   "metadata": {},
   "outputs": [],
   "source": [
    "new_extract.extractall('This is your extracted content')"
   ]
  },
  {
   "cell_type": "code",
   "execution_count": null,
   "id": "b74798cd",
   "metadata": {},
   "outputs": [],
   "source": [
    " "
   ]
  }
 ],
 "metadata": {
  "kernelspec": {
   "display_name": "Python 3 (ipykernel)",
   "language": "python",
   "name": "python3"
  },
  "language_info": {
   "codemirror_mode": {
    "name": "ipython",
    "version": 3
   },
   "file_extension": ".py",
   "mimetype": "text/x-python",
   "name": "python",
   "nbconvert_exporter": "python",
   "pygments_lexer": "ipython3",
   "version": "3.10.9"
  }
 },
 "nbformat": 4,
 "nbformat_minor": 5
}
