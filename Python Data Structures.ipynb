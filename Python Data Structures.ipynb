{
 "cells": [
  {
   "cell_type": "markdown",
   "id": "605bcbca",
   "metadata": {},
   "source": [
    "# List Data Structura\n",
    "* A list a mutable and ordered collection of items\n",
    "* List syntax: **list((1, 2, 3, 4, 5))** or **[1, 2, 3, 4, 5]**"
   ]
  },
  {
   "cell_type": "code",
   "execution_count": 3,
   "id": "17cb557a",
   "metadata": {},
   "outputs": [
    {
     "name": "stdout",
     "output_type": "stream",
     "text": [
      "[]\n",
      "[]\n"
     ]
    }
   ],
   "source": [
    "# List creation\n",
    "new_list = []\n",
    "new_list1 = list()\n",
    "print(new_list)\n",
    "print(new_list1)"
   ]
  },
  {
   "cell_type": "code",
   "execution_count": 4,
   "id": "343a70ae",
   "metadata": {},
   "outputs": [
    {
     "data": {
      "text/plain": [
       "list"
      ]
     },
     "execution_count": 4,
     "metadata": {},
     "output_type": "execute_result"
    }
   ],
   "source": [
    "# Type of list\n",
    "type(new_list)"
   ]
  },
  {
   "cell_type": "code",
   "execution_count": 6,
   "id": "d239ed94",
   "metadata": {},
   "outputs": [
    {
     "name": "stdout",
     "output_type": "stream",
     "text": [
      "<class 'list'>\n",
      "<class 'list'>\n"
     ]
    }
   ],
   "source": [
    "# List of numbers\n",
    "nums = [1, 2, 3, 4, 5]\n",
    "nums1 = list((10,15,20))\n",
    "print(type(nums))\n",
    "print(type(nums1))"
   ]
  },
  {
   "cell_type": "code",
   "execution_count": 7,
   "id": "61e2bcef",
   "metadata": {},
   "outputs": [
    {
     "name": "stdout",
     "output_type": "stream",
     "text": [
      "['blue', 'red', 'yellow']\n"
     ]
    }
   ],
   "source": [
    "# List of strings\n",
    "str_list = ['blue','red','yellow']\n",
    "print(str_list)"
   ]
  },
  {
   "cell_type": "code",
   "execution_count": 8,
   "id": "0fe592d8",
   "metadata": {},
   "outputs": [
    {
     "name": "stdout",
     "output_type": "stream",
     "text": [
      "The mixed list: ['Blue', True, 1, 3.5]\n"
     ]
    }
   ],
   "source": [
    "# Multiple types in a list\n",
    "mixed_list = ['Blue', True, 1, 3.5]\n",
    "print('The mixed list:', mixed_list)"
   ]
  },
  {
   "cell_type": "code",
   "execution_count": 9,
   "id": "9e84e975",
   "metadata": {},
   "outputs": [
    {
     "name": "stdout",
     "output_type": "stream",
     "text": [
      "[1, 2, [3, 3.1, 3.5], 4, 5]\n"
     ]
    }
   ],
   "source": [
    "# List in a list\n",
    "nums = [1, 2, [3, 3.1, 3.5], 4, 5]\n",
    "print(nums)"
   ]
  },
  {
   "cell_type": "code",
   "execution_count": 10,
   "id": "03f6178a",
   "metadata": {},
   "outputs": [
    {
     "name": "stdout",
     "output_type": "stream",
     "text": [
      "1\n",
      "2\n",
      "[3, 3.1, 3.5]\n"
     ]
    }
   ],
   "source": [
    "# Accesing list items with the index number\n",
    "print(nums[0])\n",
    "print(nums[1])\n",
    "print(nums[2])"
   ]
  },
  {
   "cell_type": "code",
   "execution_count": 11,
   "id": "28628de9",
   "metadata": {},
   "outputs": [
    {
     "data": {
      "text/plain": [
       "5"
      ]
     },
     "execution_count": 11,
     "metadata": {},
     "output_type": "execute_result"
    }
   ],
   "source": [
    "# Knowing the number of items list\n",
    "len(nums)"
   ]
  },
  {
   "cell_type": "code",
   "execution_count": 12,
   "id": "fa14b58b",
   "metadata": {},
   "outputs": [
    {
     "data": {
      "text/plain": [
       "[1, 2, [3, 3.1, 3.5]]"
      ]
     },
     "execution_count": 12,
     "metadata": {},
     "output_type": "execute_result"
    }
   ],
   "source": [
    "nums[0:3]"
   ]
  },
  {
   "cell_type": "code",
   "execution_count": 13,
   "id": "dbe20196",
   "metadata": {},
   "outputs": [
    {
     "data": {
      "text/plain": [
       "[1, 2, [3, 3.1, 3.5]]"
      ]
     },
     "execution_count": 13,
     "metadata": {},
     "output_type": "execute_result"
    }
   ],
   "source": [
    "nums[:3]"
   ]
  },
  {
   "cell_type": "code",
   "execution_count": 14,
   "id": "2372bd45",
   "metadata": {},
   "outputs": [
    {
     "name": "stdout",
     "output_type": "stream",
     "text": [
      "5\n",
      "4\n"
     ]
    }
   ],
   "source": [
    "print(nums[-1])\n",
    "print(nums[-2])"
   ]
  },
  {
   "cell_type": "code",
   "execution_count": 26,
   "id": "39075dfc",
   "metadata": {},
   "outputs": [],
   "source": [
    "colors = ['red','blue','white']"
   ]
  },
  {
   "cell_type": "code",
   "execution_count": 27,
   "id": "965fa84e",
   "metadata": {},
   "outputs": [
    {
     "data": {
      "text/plain": [
       "True"
      ]
     },
     "execution_count": 27,
     "metadata": {},
     "output_type": "execute_result"
    }
   ],
   "source": [
    "'white' in colors"
   ]
  },
  {
   "cell_type": "code",
   "execution_count": 28,
   "id": "b04da25b",
   "metadata": {},
   "outputs": [
    {
     "data": {
      "text/plain": [
       "True"
      ]
     },
     "execution_count": 28,
     "metadata": {},
     "output_type": "execute_result"
    }
   ],
   "source": [
    "'black' not in colors"
   ]
  },
  {
   "cell_type": "code",
   "execution_count": 29,
   "id": "7b87a89b",
   "metadata": {},
   "outputs": [
    {
     "data": {
      "text/plain": [
       "['red', 'blue', 'white', 'yellow']"
      ]
     },
     "execution_count": 29,
     "metadata": {},
     "output_type": "execute_result"
    }
   ],
   "source": [
    "colors.append('yellow')\n",
    "colors"
   ]
  },
  {
   "cell_type": "code",
   "execution_count": 30,
   "id": "32f73686",
   "metadata": {},
   "outputs": [
    {
     "data": {
      "text/plain": [
       "['red', 'blue', 'green', 'white', 'yellow']"
      ]
     },
     "execution_count": 30,
     "metadata": {},
     "output_type": "execute_result"
    }
   ],
   "source": [
    "colors.insert(2,'green')\n",
    "colors"
   ]
  },
  {
   "cell_type": "code",
   "execution_count": 31,
   "id": "d9075e5b",
   "metadata": {},
   "outputs": [
    {
     "data": {
      "text/plain": [
       "['red', 'blue', 'green', 'yellow']"
      ]
     },
     "execution_count": 31,
     "metadata": {},
     "output_type": "execute_result"
    }
   ],
   "source": [
    "colors.pop(3)\n",
    "colors"
   ]
  },
  {
   "cell_type": "code",
   "execution_count": 32,
   "id": "0a661c78",
   "metadata": {},
   "outputs": [
    {
     "data": {
      "text/plain": [
       "['red', 'blue', 'green', 'yellow', 'orange', 'cyan']"
      ]
     },
     "execution_count": 32,
     "metadata": {},
     "output_type": "execute_result"
    }
   ],
   "source": [
    "colors.extend(['orange','cyan'])\n",
    "colors"
   ]
  },
  {
   "cell_type": "code",
   "execution_count": 33,
   "id": "a4911b88",
   "metadata": {},
   "outputs": [
    {
     "data": {
      "text/plain": [
       "['blue', 'green', 'yellow', 'orange', 'cyan']"
      ]
     },
     "execution_count": 33,
     "metadata": {},
     "output_type": "execute_result"
    }
   ],
   "source": [
    "del colors[0]\n",
    "colors"
   ]
  },
  {
   "cell_type": "code",
   "execution_count": 34,
   "id": "dbad5599",
   "metadata": {},
   "outputs": [
    {
     "data": {
      "text/plain": [
       "['blue', 'green', 'white', 'orange', 'cyan']"
      ]
     },
     "execution_count": 34,
     "metadata": {},
     "output_type": "execute_result"
    }
   ],
   "source": [
    "colors[2] = 'white'\n",
    "colors"
   ]
  },
  {
   "cell_type": "markdown",
   "id": "9b47f7ca",
   "metadata": {},
   "source": [
    "# Tuple Data Structure\n",
    "* Tuple is immutable and ordered sequence\n",
    "* Syntax: **tuple((1, 2, 3))** or **(1, 2, 3)**"
   ]
  },
  {
   "cell_type": "code",
   "execution_count": 35,
   "id": "e39b48e0",
   "metadata": {},
   "outputs": [],
   "source": [
    "nums = tuple((1, 2, 3, 4, 5))\n",
    "nums1 = (1, 2, 3, 4, 5, 6, 7, 8)"
   ]
  },
  {
   "cell_type": "code",
   "execution_count": 37,
   "id": "a0782f30",
   "metadata": {},
   "outputs": [
    {
     "name": "stdout",
     "output_type": "stream",
     "text": [
      "<class 'tuple'>\n",
      "<class 'tuple'>\n"
     ]
    }
   ],
   "source": [
    "print(type(nums))\n",
    "print(type(nums1))"
   ]
  },
  {
   "cell_type": "code",
   "execution_count": 38,
   "id": "d6011716",
   "metadata": {},
   "outputs": [
    {
     "data": {
      "text/plain": [
       "tuple"
      ]
     },
     "execution_count": 38,
     "metadata": {},
     "output_type": "execute_result"
    }
   ],
   "source": [
    "type(nums)"
   ]
  },
  {
   "cell_type": "code",
   "execution_count": 39,
   "id": "1d978970",
   "metadata": {},
   "outputs": [
    {
     "data": {
      "text/plain": [
       "8"
      ]
     },
     "execution_count": 39,
     "metadata": {},
     "output_type": "execute_result"
    }
   ],
   "source": [
    "len(nums1)"
   ]
  },
  {
   "cell_type": "code",
   "execution_count": 42,
   "id": "e8363240",
   "metadata": {},
   "outputs": [
    {
     "data": {
      "text/plain": [
       "1"
      ]
     },
     "execution_count": 42,
     "metadata": {},
     "output_type": "execute_result"
    }
   ],
   "source": [
    "nums[0]"
   ]
  },
  {
   "cell_type": "code",
   "execution_count": 43,
   "id": "91440295",
   "metadata": {},
   "outputs": [
    {
     "data": {
      "text/plain": [
       "(2, 3)"
      ]
     },
     "execution_count": 43,
     "metadata": {},
     "output_type": "execute_result"
    }
   ],
   "source": [
    "nums[1:3]"
   ]
  },
  {
   "cell_type": "code",
   "execution_count": 45,
   "id": "fa370032",
   "metadata": {},
   "outputs": [],
   "source": [
    "# nums[0] = 10 # Error, no se puede editar"
   ]
  },
  {
   "cell_type": "code",
   "execution_count": 46,
   "id": "ef1a089b",
   "metadata": {},
   "outputs": [],
   "source": [
    "new_fruits = tuple(('Orange','Cherry','Lemon'))"
   ]
  },
  {
   "cell_type": "code",
   "execution_count": 48,
   "id": "23ea85aa",
   "metadata": {},
   "outputs": [
    {
     "data": {
      "text/plain": [
       "True"
      ]
     },
     "execution_count": 48,
     "metadata": {},
     "output_type": "execute_result"
    }
   ],
   "source": [
    "'Orange' in new_fruits"
   ]
  },
  {
   "cell_type": "code",
   "execution_count": 49,
   "id": "7ecf1bfd",
   "metadata": {},
   "outputs": [
    {
     "data": {
      "text/plain": [
       "False"
      ]
     },
     "execution_count": 49,
     "metadata": {},
     "output_type": "execute_result"
    }
   ],
   "source": [
    "'Cherry' not in new_fruits"
   ]
  },
  {
   "cell_type": "code",
   "execution_count": 52,
   "id": "d74f7a27",
   "metadata": {},
   "outputs": [],
   "source": [
    "# del new_fruits\n",
    "# new_fruits"
   ]
  },
  {
   "cell_type": "markdown",
   "id": "34abef6e",
   "metadata": {},
   "source": [
    "# Dictionaries Data Structure\n",
    "* Dictionary is mutable key value pairs to store collections\n",
    "* Syntax: **{Key: Value}** or **dict({Key: Value})**"
   ]
  },
  {
   "cell_type": "code",
   "execution_count": 53,
   "id": "6ee47fcf",
   "metadata": {},
   "outputs": [
    {
     "name": "stdout",
     "output_type": "stream",
     "text": [
      "<class 'dict'>\n",
      "<class 'dict'>\n"
     ]
    }
   ],
   "source": [
    "new_D = {'Ronaldo': 36, 'Messi': 34, 'Salah': 27}\n",
    "new_D1 = dict({'Dany':33, 'Sane': 24, 'Sam':30})\n",
    "print(type(new_D))\n",
    "print(type(new_D1))"
   ]
  },
  {
   "cell_type": "code",
   "execution_count": 54,
   "id": "f834edf7",
   "metadata": {},
   "outputs": [
    {
     "data": {
      "text/plain": [
       "dict"
      ]
     },
     "execution_count": 54,
     "metadata": {},
     "output_type": "execute_result"
    }
   ],
   "source": [
    "# Sequens of tuples\n",
    "children = dict({\n",
    "    ('Child1','5'),\n",
    "    ('Child2','6'),\n",
    "    ('Child3','7'),\n",
    "})\n",
    "type(children)"
   ]
  },
  {
   "cell_type": "code",
   "execution_count": 55,
   "id": "6a319070",
   "metadata": {},
   "outputs": [
    {
     "data": {
      "text/plain": [
       "34"
      ]
     },
     "execution_count": 55,
     "metadata": {},
     "output_type": "execute_result"
    }
   ],
   "source": [
    "new_D['Messi']"
   ]
  },
  {
   "cell_type": "code",
   "execution_count": 56,
   "id": "eeb8566a",
   "metadata": {},
   "outputs": [
    {
     "data": {
      "text/plain": [
       "{'Ronaldo': 36, 'Messi': 35, 'Salah': 27}"
      ]
     },
     "execution_count": 56,
     "metadata": {},
     "output_type": "execute_result"
    }
   ],
   "source": [
    "new_D['Messi'] = 35\n",
    "new_D"
   ]
  },
  {
   "cell_type": "code",
   "execution_count": 57,
   "id": "09d59188",
   "metadata": {},
   "outputs": [
    {
     "data": {
      "text/plain": [
       "{'Ronaldo': 36, 'Salah': 27}"
      ]
     },
     "execution_count": 57,
     "metadata": {},
     "output_type": "execute_result"
    }
   ],
   "source": [
    "del new_D['Messi']\n",
    "new_D"
   ]
  },
  {
   "cell_type": "code",
   "execution_count": 58,
   "id": "560c7f50",
   "metadata": {},
   "outputs": [
    {
     "data": {
      "text/plain": [
       "False"
      ]
     },
     "execution_count": 58,
     "metadata": {},
     "output_type": "execute_result"
    }
   ],
   "source": [
    "'Messi' in new_D"
   ]
  },
  {
   "cell_type": "code",
   "execution_count": 61,
   "id": "1f6e8c11",
   "metadata": {},
   "outputs": [
    {
     "data": {
      "text/plain": [
       "{'Ronaldo': 36, 'Salah': 27, 'Messi': 35}"
      ]
     },
     "execution_count": 61,
     "metadata": {},
     "output_type": "execute_result"
    }
   ],
   "source": [
    "new_D['Messi'] = 35\n",
    "new_D"
   ]
  },
  {
   "cell_type": "markdown",
   "id": "ea29b7f9",
   "metadata": {},
   "source": [
    "# Set Data Structure\n",
    "* Set is unordered and immutable collection \n",
    "* No duplicates in sets\n",
    "* Syntax: **{1, 2, 3}** or **set([1, 2, 3])**"
   ]
  },
  {
   "cell_type": "code",
   "execution_count": 62,
   "id": "10f61cd7",
   "metadata": {},
   "outputs": [
    {
     "name": "stdout",
     "output_type": "stream",
     "text": [
      "<class 'set'>\n",
      "<class 'set'>\n"
     ]
    }
   ],
   "source": [
    "set_nums = set((1, 2, 3, 4, 5))\n",
    "set_nums1 = {1, 2, 3, 4, 5, 6}\n",
    "print(type(set_nums))\n",
    "print(type(set_nums1))"
   ]
  },
  {
   "cell_type": "code",
   "execution_count": 63,
   "id": "5be8461e",
   "metadata": {},
   "outputs": [
    {
     "data": {
      "text/plain": [
       "{'P', 'h', 'n', 'o', 't', 'y'}"
      ]
     },
     "execution_count": 63,
     "metadata": {},
     "output_type": "execute_result"
    }
   ],
   "source": [
    "set('Python')"
   ]
  },
  {
   "cell_type": "code",
   "execution_count": 64,
   "id": "7bdcee35",
   "metadata": {},
   "outputs": [
    {
     "data": {
      "text/plain": [
       "set"
      ]
     },
     "execution_count": 64,
     "metadata": {},
     "output_type": "execute_result"
    }
   ],
   "source": [
    "x = set({1:'name', 2:'age'})\n",
    "type(x)"
   ]
  },
  {
   "cell_type": "code",
   "execution_count": 65,
   "id": "9c941170",
   "metadata": {},
   "outputs": [
    {
     "ename": "NameError",
     "evalue": "name 'x' is not defined",
     "output_type": "error",
     "traceback": [
      "\u001b[1;31m---------------------------------------------------------------------------\u001b[0m",
      "\u001b[1;31mNameError\u001b[0m                                 Traceback (most recent call last)",
      "Cell \u001b[1;32mIn[65], line 2\u001b[0m\n\u001b[0;32m      1\u001b[0m \u001b[38;5;28;01mdel\u001b[39;00m x \n\u001b[1;32m----> 2\u001b[0m \u001b[43mx\u001b[49m\n",
      "\u001b[1;31mNameError\u001b[0m: name 'x' is not defined"
     ]
    }
   ],
   "source": [
    "del x \n",
    "x"
   ]
  },
  {
   "cell_type": "code",
   "execution_count": null,
   "id": "38c106bb",
   "metadata": {},
   "outputs": [],
   "source": []
  }
 ],
 "metadata": {
  "kernelspec": {
   "display_name": "Python 3 (ipykernel)",
   "language": "python",
   "name": "python3"
  },
  "language_info": {
   "codemirror_mode": {
    "name": "ipython",
    "version": 3
   },
   "file_extension": ".py",
   "mimetype": "text/x-python",
   "name": "python",
   "nbconvert_exporter": "python",
   "pygments_lexer": "ipython3",
   "version": "3.10.9"
  }
 },
 "nbformat": 4,
 "nbformat_minor": 5
}
