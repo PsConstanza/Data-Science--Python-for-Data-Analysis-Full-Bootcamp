{
 "cells": [
  {
   "cell_type": "markdown",
   "id": "d4c100b4",
   "metadata": {},
   "source": [
    "# Introduction to Jupyter"
   ]
  },
  {
   "cell_type": "markdown",
   "id": "e4bcffaf",
   "metadata": {},
   "source": [
    "# First Level"
   ]
  },
  {
   "cell_type": "markdown",
   "id": "9444557e",
   "metadata": {},
   "source": [
    "## Second Level"
   ]
  },
  {
   "cell_type": "markdown",
   "id": "530a2a76",
   "metadata": {},
   "source": [
    "This is our first text as you can see"
   ]
  },
  {
   "cell_type": "markdown",
   "id": "bfed938e",
   "metadata": {},
   "source": [
    "* First line in list\n",
    "* Second line in list"
   ]
  },
  {
   "cell_type": "markdown",
   "id": "bcb54143",
   "metadata": {},
   "source": [
    "1. First line in the list with numbers\n",
    "2. Second line in the list with numbers"
   ]
  },
  {
   "cell_type": "markdown",
   "id": "ce41e038",
   "metadata": {},
   "source": [
    "[www.example.com]\n"
   ]
  },
  {
   "cell_type": "code",
   "execution_count": 1,
   "id": "abb30f3b",
   "metadata": {},
   "outputs": [
    {
     "name": "stdout",
     "output_type": "stream",
     "text": [
      "Hi, welcome to this Python Data analysis and visualization course\n"
     ]
    }
   ],
   "source": [
    "print(\"Hi, welcome to this Python Data analysis and visualization course\")"
   ]
  },
  {
   "cell_type": "code",
   "execution_count": 2,
   "id": "3a3f9221",
   "metadata": {},
   "outputs": [
    {
     "name": "stdout",
     "output_type": "stream",
     "text": [
      "First message\n",
      "Second message\n",
      "Third message\n"
     ]
    }
   ],
   "source": [
    "print('First message')\n",
    "print('Second message')\n",
    "print('Third message')"
   ]
  },
  {
   "cell_type": "code",
   "execution_count": 3,
   "id": "39540456",
   "metadata": {},
   "outputs": [],
   "source": [
    "x = 'Hello world' "
   ]
  },
  {
   "cell_type": "code",
   "execution_count": 4,
   "id": "9330a955",
   "metadata": {},
   "outputs": [
    {
     "name": "stdout",
     "output_type": "stream",
     "text": [
      "Hello world\n"
     ]
    }
   ],
   "source": [
    "print(x)"
   ]
  },
  {
   "cell_type": "code",
   "execution_count": 5,
   "id": "4ae40ecd",
   "metadata": {},
   "outputs": [
    {
     "data": {
      "text/plain": [
       "'Hello world'"
      ]
     },
     "execution_count": 5,
     "metadata": {},
     "output_type": "execute_result"
    }
   ],
   "source": [
    "x"
   ]
  },
  {
   "cell_type": "code",
   "execution_count": 6,
   "id": "42561c46",
   "metadata": {},
   "outputs": [],
   "source": [
    "import numpy as np\n",
    "import matplotlib.pyplot as plt\n",
    "import pandas as pd"
   ]
  },
  {
   "cell_type": "code",
   "execution_count": 8,
   "id": "7e85b75e",
   "metadata": {},
   "outputs": [
    {
     "data": {
      "text/plain": [
       "array([0, 1, 2, 3, 4, 5, 6])"
      ]
     },
     "execution_count": 8,
     "metadata": {},
     "output_type": "execute_result"
    }
   ],
   "source": [
    "np.arange(7)"
   ]
  },
  {
   "cell_type": "markdown",
   "id": "35b642b0",
   "metadata": {},
   "source": [
    "# Variables and Data Type\n",
    "* A variable is a memory location to store values\n",
    "* No Type and no keywords in the variable declaration\n",
    "* Example: **lang: 'Python**\n",
    "* Basic Four Types: int, float, bool and str"
   ]
  },
  {
   "cell_type": "code",
   "execution_count": 10,
   "id": "89439a83",
   "metadata": {},
   "outputs": [],
   "source": [
    "message = 'This is a comprehensive course!'"
   ]
  },
  {
   "cell_type": "code",
   "execution_count": 11,
   "id": "d1ac6a49",
   "metadata": {},
   "outputs": [
    {
     "name": "stdout",
     "output_type": "stream",
     "text": [
      "This is a comprehensive course!\n"
     ]
    }
   ],
   "source": [
    "print(message)"
   ]
  },
  {
   "cell_type": "code",
   "execution_count": 12,
   "id": "420e6911",
   "metadata": {},
   "outputs": [],
   "source": [
    "x = 10\n",
    "y = 20.3\n",
    "z = 20 + 5j\n"
   ]
  },
  {
   "cell_type": "code",
   "execution_count": 13,
   "id": "42489caf",
   "metadata": {},
   "outputs": [
    {
     "data": {
      "text/plain": [
       "10"
      ]
     },
     "execution_count": 13,
     "metadata": {},
     "output_type": "execute_result"
    }
   ],
   "source": [
    "x"
   ]
  },
  {
   "cell_type": "code",
   "execution_count": 14,
   "id": "f1eeee81",
   "metadata": {},
   "outputs": [
    {
     "data": {
      "text/plain": [
       "20.3"
      ]
     },
     "execution_count": 14,
     "metadata": {},
     "output_type": "execute_result"
    }
   ],
   "source": [
    "y"
   ]
  },
  {
   "cell_type": "code",
   "execution_count": 15,
   "id": "8dcd302a",
   "metadata": {},
   "outputs": [
    {
     "data": {
      "text/plain": [
       "(20+5j)"
      ]
     },
     "execution_count": 15,
     "metadata": {},
     "output_type": "execute_result"
    }
   ],
   "source": [
    "z"
   ]
  },
  {
   "cell_type": "code",
   "execution_count": 16,
   "id": "06e946eb",
   "metadata": {},
   "outputs": [],
   "source": [
    "test = True"
   ]
  },
  {
   "cell_type": "code",
   "execution_count": 17,
   "id": "48642762",
   "metadata": {},
   "outputs": [
    {
     "data": {
      "text/plain": [
       "bool"
      ]
     },
     "execution_count": 17,
     "metadata": {},
     "output_type": "execute_result"
    }
   ],
   "source": [
    "type(test)"
   ]
  },
  {
   "cell_type": "code",
   "execution_count": 18,
   "id": "00baae74",
   "metadata": {},
   "outputs": [
    {
     "data": {
      "text/plain": [
       "int"
      ]
     },
     "execution_count": 18,
     "metadata": {},
     "output_type": "execute_result"
    }
   ],
   "source": [
    "type(1)"
   ]
  },
  {
   "cell_type": "code",
   "execution_count": 19,
   "id": "1f083f64",
   "metadata": {},
   "outputs": [
    {
     "data": {
      "text/plain": [
       "float"
      ]
     },
     "execution_count": 19,
     "metadata": {},
     "output_type": "execute_result"
    }
   ],
   "source": [
    "type(y)"
   ]
  },
  {
   "cell_type": "code",
   "execution_count": 20,
   "id": "f0c477c9",
   "metadata": {},
   "outputs": [
    {
     "data": {
      "text/plain": [
       "complex"
      ]
     },
     "execution_count": 20,
     "metadata": {},
     "output_type": "execute_result"
    }
   ],
   "source": [
    "type(z)"
   ]
  },
  {
   "cell_type": "code",
   "execution_count": 21,
   "id": "cd433697",
   "metadata": {},
   "outputs": [
    {
     "data": {
      "text/plain": [
       "str"
      ]
     },
     "execution_count": 21,
     "metadata": {},
     "output_type": "execute_result"
    }
   ],
   "source": [
    "type(message)"
   ]
  },
  {
   "cell_type": "code",
   "execution_count": 22,
   "id": "735bcdba",
   "metadata": {},
   "outputs": [
    {
     "data": {
      "text/plain": [
       "str"
      ]
     },
     "execution_count": 22,
     "metadata": {},
     "output_type": "execute_result"
    }
   ],
   "source": [
    "type('r')"
   ]
  },
  {
   "cell_type": "markdown",
   "id": "e8a70453",
   "metadata": {},
   "source": [
    "# Comments in Python\n",
    "* Using a **comment** to describe the code and make it more readable and understandable\n",
    "* Single line comment and Multiple line comment\n",
    "* **#** This is comment syntax in Python"
   ]
  },
  {
   "cell_type": "code",
   "execution_count": 23,
   "id": "19e980fd",
   "metadata": {},
   "outputs": [
    {
     "name": "stdout",
     "output_type": "stream",
     "text": [
      "Hi, Jupyter\n"
     ]
    }
   ],
   "source": [
    "# Block single line comment\n",
    "\n",
    "text = 'Hi, Jupyter'\n",
    "print(text)"
   ]
  },
  {
   "cell_type": "code",
   "execution_count": 24,
   "id": "e30248e7",
   "metadata": {},
   "outputs": [
    {
     "name": "stdout",
     "output_type": "stream",
     "text": [
      "This is not a comment\n"
     ]
    }
   ],
   "source": [
    "print('This is not a comment') # But this is a comment"
   ]
  },
  {
   "cell_type": "code",
   "execution_count": 25,
   "id": "110db8c0",
   "metadata": {},
   "outputs": [],
   "source": [
    "# First line of comment\n",
    "# Second line of comment\n",
    "# Third line of comment"
   ]
  },
  {
   "cell_type": "markdown",
   "id": "31ff39f9",
   "metadata": {},
   "source": [
    "# Define Blocks and Avoid IndentationError\n",
    "## White Spaces!\n",
    "* Python uses indentation to define codes and block\n",
    "* Without indentation you will get\n",
    "\n",
    "**IndentationError: expected and indented block**"
   ]
  },
  {
   "cell_type": "code",
   "execution_count": 26,
   "id": "8fd42e56",
   "metadata": {},
   "outputs": [
    {
     "name": "stdout",
     "output_type": "stream",
     "text": [
      "Hello, World!\n"
     ]
    }
   ],
   "source": [
    "if True:\n",
    "    print('Hello, World!')"
   ]
  },
  {
   "cell_type": "code",
   "execution_count": 30,
   "id": "f6bb4676",
   "metadata": {},
   "outputs": [
    {
     "data": {
      "text/plain": [
       "\"\\nif True:\\nprint('Hello, World!')\""
      ]
     },
     "execution_count": 30,
     "metadata": {},
     "output_type": "execute_result"
    }
   ],
   "source": [
    "# Identation error\n",
    "'''\n",
    "if True:\n",
    "print('Hello, World!')'''"
   ]
  },
  {
   "cell_type": "markdown",
   "id": "ead2fdaf",
   "metadata": {},
   "source": [
    "# String Data Type\n",
    "* Using string to store collection of characters\n",
    "* Use **\" \"** or **' '** or **''' '''** or **\"\"\" \"\"\"** to create a string\n",
    "* A string is **immutable**"
   ]
  },
  {
   "cell_type": "code",
   "execution_count": 31,
   "id": "40cd10aa",
   "metadata": {},
   "outputs": [
    {
     "data": {
      "text/plain": [
       "str"
      ]
     },
     "execution_count": 31,
     "metadata": {},
     "output_type": "execute_result"
    }
   ],
   "source": [
    "type('Welcome to Jupyter')"
   ]
  },
  {
   "cell_type": "code",
   "execution_count": 32,
   "id": "802fe4ce",
   "metadata": {},
   "outputs": [
    {
     "data": {
      "text/plain": [
       "str"
      ]
     },
     "execution_count": 32,
     "metadata": {},
     "output_type": "execute_result"
    }
   ],
   "source": [
    "name = 'Python Data Analysis and Visualization'\n",
    "type(name)"
   ]
  },
  {
   "cell_type": "code",
   "execution_count": 33,
   "id": "b13b171c",
   "metadata": {},
   "outputs": [
    {
     "data": {
      "text/plain": [
       "str"
      ]
     },
     "execution_count": 33,
     "metadata": {},
     "output_type": "execute_result"
    }
   ],
   "source": [
    "mix = 'Hi number 123'\n",
    "type(mix)"
   ]
  },
  {
   "cell_type": "code",
   "execution_count": 35,
   "id": "57d6eb22",
   "metadata": {},
   "outputs": [
    {
     "data": {
      "text/plain": [
       "\"We said that 'Python is powerful'\""
      ]
     },
     "execution_count": 35,
     "metadata": {},
     "output_type": "execute_result"
    }
   ],
   "source": [
    "new_str = \"We said that 'Python is powerful'\"\n",
    "new_str"
   ]
  },
  {
   "cell_type": "code",
   "execution_count": 38,
   "id": "d33a1ce0",
   "metadata": {},
   "outputs": [
    {
     "data": {
      "text/plain": [
       "'We said that \"Python is powerful\"'"
      ]
     },
     "execution_count": 38,
     "metadata": {},
     "output_type": "execute_result"
    }
   ],
   "source": [
    "# new_str1 = \"We said that \"Python is powerful\"\" # Error\n",
    "new_str1 = \"We said that \\\"Python is powerful\\\"\"\n",
    "new_str1"
   ]
  },
  {
   "cell_type": "code",
   "execution_count": 39,
   "id": "2c97efee",
   "metadata": {},
   "outputs": [
    {
     "data": {
      "text/plain": [
       "33"
      ]
     },
     "execution_count": 39,
     "metadata": {},
     "output_type": "execute_result"
    }
   ],
   "source": [
    "len(new_str1)"
   ]
  },
  {
   "cell_type": "code",
   "execution_count": 42,
   "id": "ad8d730d",
   "metadata": {},
   "outputs": [
    {
     "data": {
      "text/plain": [
       "'W'"
      ]
     },
     "execution_count": 42,
     "metadata": {},
     "output_type": "execute_result"
    }
   ],
   "source": [
    "new_str1[0]\n"
   ]
  },
  {
   "cell_type": "code",
   "execution_count": 43,
   "id": "bb5d0aff",
   "metadata": {},
   "outputs": [
    {
     "data": {
      "text/plain": [
       "'e'"
      ]
     },
     "execution_count": 43,
     "metadata": {},
     "output_type": "execute_result"
    }
   ],
   "source": [
    "new_str1[1]"
   ]
  },
  {
   "cell_type": "code",
   "execution_count": 44,
   "id": "62aa3f58",
   "metadata": {},
   "outputs": [
    {
     "data": {
      "text/plain": [
       "\"This is a multiple line string data in python programming. It's a very easy way as you can see!\""
      ]
     },
     "execution_count": 44,
     "metadata": {},
     "output_type": "execute_result"
    }
   ],
   "source": [
    "new_multiple = \"This is a multiple line string data \\\n",
    "in python programming. \\\n",
    "It's a very easy way as you can see!\"\n",
    "new_multiple"
   ]
  },
  {
   "cell_type": "code",
   "execution_count": 48,
   "id": "5d23d081",
   "metadata": {},
   "outputs": [
    {
     "data": {
      "text/plain": [
       "\" Another way to create multiple line string\\nfor multiple line text paragraph. \\nIt's easy also!\""
      ]
     },
     "execution_count": 48,
     "metadata": {},
     "output_type": "execute_result"
    }
   ],
   "source": [
    "new_multiple1 = \"\"\" Another way to create multiple line string\n",
    "for multiple line text paragraph. \n",
    "It's easy also!\"\"\"\n",
    "new_multiple1"
   ]
  },
  {
   "cell_type": "code",
   "execution_count": 49,
   "id": "d710798f",
   "metadata": {},
   "outputs": [
    {
     "data": {
      "text/plain": [
       "'Python Programming'"
      ]
     },
     "execution_count": 49,
     "metadata": {},
     "output_type": "execute_result"
    }
   ],
   "source": [
    "word1 = 'Python'\n",
    "word2 = 'Programming'\n",
    "fullText = word1 + ' ' + word2\n",
    "fullText"
   ]
  },
  {
   "cell_type": "code",
   "execution_count": 50,
   "id": "6fb842ad",
   "metadata": {},
   "outputs": [
    {
     "data": {
      "text/plain": [
       "'Pyth'"
      ]
     },
     "execution_count": 50,
     "metadata": {},
     "output_type": "execute_result"
    }
   ],
   "source": [
    "fullText[0:4]"
   ]
  },
  {
   "cell_type": "code",
   "execution_count": 51,
   "id": "53b1360c",
   "metadata": {},
   "outputs": [
    {
     "data": {
      "text/plain": [
       "'g'"
      ]
     },
     "execution_count": 51,
     "metadata": {},
     "output_type": "execute_result"
    }
   ],
   "source": [
    "fullText[-1]"
   ]
  },
  {
   "cell_type": "code",
   "execution_count": 52,
   "id": "fff122db",
   "metadata": {},
   "outputs": [
    {
     "data": {
      "text/plain": [
       "'Python '"
      ]
     },
     "execution_count": 52,
     "metadata": {},
     "output_type": "execute_result"
    }
   ],
   "source": [
    "fullText[:7]"
   ]
  },
  {
   "cell_type": "code",
   "execution_count": 53,
   "id": "4265278e",
   "metadata": {},
   "outputs": [
    {
     "data": {
      "text/plain": [
       "'Programming'"
      ]
     },
     "execution_count": 53,
     "metadata": {},
     "output_type": "execute_result"
    }
   ],
   "source": [
    "fullText[7:]"
   ]
  },
  {
   "cell_type": "code",
   "execution_count": 54,
   "id": "40413e84",
   "metadata": {},
   "outputs": [
    {
     "data": {
      "text/plain": [
       "'P'"
      ]
     },
     "execution_count": 54,
     "metadata": {},
     "output_type": "execute_result"
    }
   ],
   "source": [
    "fullText[7]"
   ]
  },
  {
   "cell_type": "code",
   "execution_count": 55,
   "id": "102b4300",
   "metadata": {},
   "outputs": [
    {
     "data": {
      "text/plain": [
       "'python programming'"
      ]
     },
     "execution_count": 55,
     "metadata": {},
     "output_type": "execute_result"
    }
   ],
   "source": [
    "fullText.lower()"
   ]
  },
  {
   "cell_type": "code",
   "execution_count": 56,
   "id": "73059f6b",
   "metadata": {},
   "outputs": [
    {
     "data": {
      "text/plain": [
       "'PYTHON PROGRAMMING'"
      ]
     },
     "execution_count": 56,
     "metadata": {},
     "output_type": "execute_result"
    }
   ],
   "source": [
    "fullText.upper()"
   ]
  },
  {
   "cell_type": "code",
   "execution_count": 57,
   "id": "d4616a6c",
   "metadata": {},
   "outputs": [
    {
     "data": {
      "text/plain": [
       "18"
      ]
     },
     "execution_count": 57,
     "metadata": {},
     "output_type": "execute_result"
    }
   ],
   "source": [
    "len(fullText)"
   ]
  },
  {
   "cell_type": "code",
   "execution_count": 66,
   "id": "eed13437",
   "metadata": {},
   "outputs": [
    {
     "data": {
      "text/plain": [
       "'python programming  '"
      ]
     },
     "execution_count": 66,
     "metadata": {},
     "output_type": "execute_result"
    }
   ],
   "source": [
    "fullText = fullText + '  '\n",
    "fullText\n",
    "\n"
   ]
  },
  {
   "cell_type": "code",
   "execution_count": 67,
   "id": "50064267",
   "metadata": {},
   "outputs": [
    {
     "data": {
      "text/plain": [
       "'python programming'"
      ]
     },
     "execution_count": 67,
     "metadata": {},
     "output_type": "execute_result"
    }
   ],
   "source": [
    "fullText.strip()"
   ]
  },
  {
   "cell_type": "markdown",
   "id": "2d68fd0d",
   "metadata": {},
   "source": [
    "# Numbers and Math Operations\n",
    "* Numbers Types: int, float and complex\n",
    "* Conversions: int(), float(), and complex()\n",
    "* Math operations order: (), **, *, /, +, -"
   ]
  },
  {
   "cell_type": "code",
   "execution_count": 69,
   "id": "6b27b4e9",
   "metadata": {},
   "outputs": [
    {
     "data": {
      "text/plain": [
       "int"
      ]
     },
     "execution_count": 69,
     "metadata": {},
     "output_type": "execute_result"
    }
   ],
   "source": [
    "x = 10\n",
    "type(x)"
   ]
  },
  {
   "cell_type": "code",
   "execution_count": 70,
   "id": "ab6f0fc8",
   "metadata": {},
   "outputs": [
    {
     "data": {
      "text/plain": [
       "10"
      ]
     },
     "execution_count": 70,
     "metadata": {},
     "output_type": "execute_result"
    }
   ],
   "source": [
    "int(x)"
   ]
  },
  {
   "cell_type": "code",
   "execution_count": 72,
   "id": "45a16d41",
   "metadata": {},
   "outputs": [
    {
     "data": {
      "text/plain": [
       "str"
      ]
     },
     "execution_count": 72,
     "metadata": {},
     "output_type": "execute_result"
    }
   ],
   "source": [
    "y = '11'\n",
    "type(y)"
   ]
  },
  {
   "cell_type": "code",
   "execution_count": 73,
   "id": "bf8c95c6",
   "metadata": {},
   "outputs": [
    {
     "data": {
      "text/plain": [
       "11"
      ]
     },
     "execution_count": 73,
     "metadata": {},
     "output_type": "execute_result"
    }
   ],
   "source": [
    "int(y)"
   ]
  },
  {
   "cell_type": "code",
   "execution_count": 74,
   "id": "253897be",
   "metadata": {},
   "outputs": [
    {
     "data": {
      "text/plain": [
       "2"
      ]
     },
     "execution_count": 74,
     "metadata": {},
     "output_type": "execute_result"
    }
   ],
   "source": [
    "int('2')"
   ]
  },
  {
   "cell_type": "code",
   "execution_count": 75,
   "id": "6de9c9fe",
   "metadata": {},
   "outputs": [
    {
     "data": {
      "text/plain": [
       "3"
      ]
     },
     "execution_count": 75,
     "metadata": {},
     "output_type": "execute_result"
    }
   ],
   "source": [
    "int(3.5)"
   ]
  },
  {
   "cell_type": "code",
   "execution_count": 76,
   "id": "e7afe164",
   "metadata": {},
   "outputs": [
    {
     "data": {
      "text/plain": [
       "float"
      ]
     },
     "execution_count": 76,
     "metadata": {},
     "output_type": "execute_result"
    }
   ],
   "source": [
    "x = 4.9\n",
    "type(x)"
   ]
  },
  {
   "cell_type": "code",
   "execution_count": 77,
   "id": "eeadd197",
   "metadata": {},
   "outputs": [
    {
     "data": {
      "text/plain": [
       "11.0"
      ]
     },
     "execution_count": 77,
     "metadata": {},
     "output_type": "execute_result"
    }
   ],
   "source": [
    "float(y)"
   ]
  },
  {
   "cell_type": "code",
   "execution_count": 81,
   "id": "a3bf2039",
   "metadata": {},
   "outputs": [
    {
     "data": {
      "text/plain": [
       "23.0"
      ]
     },
     "execution_count": 81,
     "metadata": {},
     "output_type": "execute_result"
    }
   ],
   "source": [
    "float(23)"
   ]
  },
  {
   "cell_type": "code",
   "execution_count": 78,
   "id": "0b43b971",
   "metadata": {},
   "outputs": [
    {
     "data": {
      "text/plain": [
       "3.1"
      ]
     },
     "execution_count": 78,
     "metadata": {},
     "output_type": "execute_result"
    }
   ],
   "source": [
    "float('3.1')"
   ]
  },
  {
   "cell_type": "code",
   "execution_count": 82,
   "id": "c0246d0a",
   "metadata": {},
   "outputs": [
    {
     "data": {
      "text/plain": [
       "float"
      ]
     },
     "execution_count": 82,
     "metadata": {},
     "output_type": "execute_result"
    }
   ],
   "source": [
    "z = 3e+19\n",
    "type(z)"
   ]
  },
  {
   "cell_type": "code",
   "execution_count": 83,
   "id": "b11555b2",
   "metadata": {},
   "outputs": [
    {
     "data": {
      "text/plain": [
       "3e+19"
      ]
     },
     "execution_count": 83,
     "metadata": {},
     "output_type": "execute_result"
    }
   ],
   "source": [
    "float(z)"
   ]
  },
  {
   "cell_type": "code",
   "execution_count": 84,
   "id": "80746424",
   "metadata": {},
   "outputs": [
    {
     "data": {
      "text/plain": [
       "complex"
      ]
     },
     "execution_count": 84,
     "metadata": {},
     "output_type": "execute_result"
    }
   ],
   "source": [
    "w = 9 - 7j\n",
    "type(w)"
   ]
  },
  {
   "cell_type": "code",
   "execution_count": 85,
   "id": "2311558e",
   "metadata": {},
   "outputs": [
    {
     "data": {
      "text/plain": [
       "(9-7j)"
      ]
     },
     "execution_count": 85,
     "metadata": {},
     "output_type": "execute_result"
    }
   ],
   "source": [
    "complex(w)"
   ]
  },
  {
   "cell_type": "code",
   "execution_count": 86,
   "id": "774ad864",
   "metadata": {},
   "outputs": [
    {
     "data": {
      "text/plain": [
       "(38+0j)"
      ]
     },
     "execution_count": 86,
     "metadata": {},
     "output_type": "execute_result"
    }
   ],
   "source": [
    "complex(38)"
   ]
  },
  {
   "cell_type": "code",
   "execution_count": 87,
   "id": "2c14462a",
   "metadata": {},
   "outputs": [
    {
     "data": {
      "text/plain": [
       "94"
      ]
     },
     "execution_count": 87,
     "metadata": {},
     "output_type": "execute_result"
    }
   ],
   "source": [
    "99 - 5"
   ]
  },
  {
   "cell_type": "code",
   "execution_count": 88,
   "id": "1358c353",
   "metadata": {},
   "outputs": [
    {
     "data": {
      "text/plain": [
       "24"
      ]
     },
     "execution_count": 88,
     "metadata": {},
     "output_type": "execute_result"
    }
   ],
   "source": [
    "8 * 3"
   ]
  },
  {
   "cell_type": "code",
   "execution_count": 89,
   "id": "a03f03a2",
   "metadata": {},
   "outputs": [
    {
     "data": {
      "text/plain": [
       "6.0"
      ]
     },
     "execution_count": 89,
     "metadata": {},
     "output_type": "execute_result"
    }
   ],
   "source": [
    "12 / 2"
   ]
  },
  {
   "cell_type": "code",
   "execution_count": 90,
   "id": "ee738d9c",
   "metadata": {},
   "outputs": [
    {
     "data": {
      "text/plain": [
       "6"
      ]
     },
     "execution_count": 90,
     "metadata": {},
     "output_type": "execute_result"
    }
   ],
   "source": [
    "12 // 2"
   ]
  },
  {
   "cell_type": "code",
   "execution_count": 91,
   "id": "7eb83e7d",
   "metadata": {},
   "outputs": [
    {
     "data": {
      "text/plain": [
       "4"
      ]
     },
     "execution_count": 91,
     "metadata": {},
     "output_type": "execute_result"
    }
   ],
   "source": [
    "2 ** 2"
   ]
  },
  {
   "cell_type": "code",
   "execution_count": 92,
   "id": "339c9694",
   "metadata": {},
   "outputs": [
    {
     "data": {
      "text/plain": [
       "64"
      ]
     },
     "execution_count": 92,
     "metadata": {},
     "output_type": "execute_result"
    }
   ],
   "source": [
    "8 ** 2"
   ]
  },
  {
   "cell_type": "code",
   "execution_count": 93,
   "id": "687b501a",
   "metadata": {},
   "outputs": [
    {
     "data": {
      "text/plain": [
       "2"
      ]
     },
     "execution_count": 93,
     "metadata": {},
     "output_type": "execute_result"
    }
   ],
   "source": [
    "11 % 3"
   ]
  },
  {
   "cell_type": "code",
   "execution_count": 94,
   "id": "6ed003e3",
   "metadata": {},
   "outputs": [
    {
     "data": {
      "text/plain": [
       "0"
      ]
     },
     "execution_count": 94,
     "metadata": {},
     "output_type": "execute_result"
    }
   ],
   "source": [
    "12 % 3"
   ]
  },
  {
   "cell_type": "code",
   "execution_count": 95,
   "id": "c3dee4be",
   "metadata": {},
   "outputs": [
    {
     "data": {
      "text/plain": [
       "1"
      ]
     },
     "execution_count": 95,
     "metadata": {},
     "output_type": "execute_result"
    }
   ],
   "source": [
    "13 % 3"
   ]
  },
  {
   "cell_type": "code",
   "execution_count": 98,
   "id": "5828e884",
   "metadata": {},
   "outputs": [],
   "source": [
    "# 1 % 0 # Error"
   ]
  },
  {
   "cell_type": "code",
   "execution_count": 100,
   "id": "b0792ec5",
   "metadata": {},
   "outputs": [],
   "source": [
    "# 1 / 0 # Error"
   ]
  },
  {
   "cell_type": "code",
   "execution_count": 101,
   "id": "06699378",
   "metadata": {},
   "outputs": [],
   "source": [
    "# 1 // 0 # Error"
   ]
  },
  {
   "cell_type": "code",
   "execution_count": 103,
   "id": "9ab4b707",
   "metadata": {},
   "outputs": [
    {
     "data": {
      "text/plain": [
       "16.714285714285715"
      ]
     },
     "execution_count": 103,
     "metadata": {},
     "output_type": "execute_result"
    }
   ],
   "source": [
    "2 * 10 - 5 + (12 / 7)"
   ]
  },
  {
   "cell_type": "code",
   "execution_count": 104,
   "id": "49b5c175",
   "metadata": {},
   "outputs": [
    {
     "data": {
      "text/plain": [
       "-199.31"
      ]
     },
     "execution_count": 104,
     "metadata": {},
     "output_type": "execute_result"
    }
   ],
   "source": [
    "0.7 - 11.3 * (12 + 5.7)"
   ]
  },
  {
   "cell_type": "code",
   "execution_count": 105,
   "id": "057f616b",
   "metadata": {},
   "outputs": [
    {
     "data": {
      "text/plain": [
       "8"
      ]
     },
     "execution_count": 105,
     "metadata": {},
     "output_type": "execute_result"
    }
   ],
   "source": [
    "pow(2, 3)"
   ]
  },
  {
   "cell_type": "code",
   "execution_count": 106,
   "id": "9a723139",
   "metadata": {},
   "outputs": [
    {
     "data": {
      "text/plain": [
       "4"
      ]
     },
     "execution_count": 106,
     "metadata": {},
     "output_type": "execute_result"
    }
   ],
   "source": [
    "round(4.2)"
   ]
  },
  {
   "cell_type": "code",
   "execution_count": 107,
   "id": "ef948158",
   "metadata": {},
   "outputs": [
    {
     "data": {
      "text/plain": [
       "4"
      ]
     },
     "execution_count": 107,
     "metadata": {},
     "output_type": "execute_result"
    }
   ],
   "source": [
    "round(4.5)"
   ]
  },
  {
   "cell_type": "code",
   "execution_count": 108,
   "id": "a8051498",
   "metadata": {},
   "outputs": [
    {
     "data": {
      "text/plain": [
       "5"
      ]
     },
     "execution_count": 108,
     "metadata": {},
     "output_type": "execute_result"
    }
   ],
   "source": [
    "round(4.55)"
   ]
  },
  {
   "cell_type": "code",
   "execution_count": 109,
   "id": "e042d2d8",
   "metadata": {},
   "outputs": [
    {
     "name": "stdout",
     "output_type": "stream",
     "text": [
      "We are printing the value of x which is 4.9\n"
     ]
    }
   ],
   "source": [
    "print(f\"We are printing the value of x which is {x}\")"
   ]
  },
  {
   "cell_type": "code",
   "execution_count": 111,
   "id": "ab74f4cc",
   "metadata": {},
   "outputs": [
    {
     "name": "stdout",
     "output_type": "stream",
     "text": [
      "We are printing the value of x which is 9.2\n"
     ]
    }
   ],
   "source": [
    "x = 9.21\n",
    "print(f\"We are printing the value of x which is {x:.1f}\")"
   ]
  },
  {
   "cell_type": "markdown",
   "id": "38defc5d",
   "metadata": {},
   "source": [
    "# Taking input from users\n",
    "* Use **input(promt)** to take input from users\n",
    "* The entered input will be converted to a string\n",
    "* print(args) to print out data"
   ]
  },
  {
   "cell_type": "code",
   "execution_count": 1,
   "id": "5a6522a6",
   "metadata": {},
   "outputs": [
    {
     "name": "stdout",
     "output_type": "stream",
     "text": [
      "Enter a number here: 11\n",
      "11\n"
     ]
    }
   ],
   "source": [
    "num = int(input('Enter a number here: '))\n",
    "print(num)"
   ]
  },
  {
   "cell_type": "code",
   "execution_count": 2,
   "id": "e63b0848",
   "metadata": {},
   "outputs": [
    {
     "name": "stdout",
     "output_type": "stream",
     "text": [
      "Enter a name here: Cky\n",
      "Cky\n"
     ]
    }
   ],
   "source": [
    "name = input('Enter a name here: ')\n",
    "print(name)"
   ]
  },
  {
   "cell_type": "code",
   "execution_count": 3,
   "id": "8889b665",
   "metadata": {},
   "outputs": [
    {
     "data": {
      "text/plain": [
       "int"
      ]
     },
     "execution_count": 3,
     "metadata": {},
     "output_type": "execute_result"
    }
   ],
   "source": [
    "type(num)"
   ]
  },
  {
   "cell_type": "code",
   "execution_count": 4,
   "id": "1b058a61",
   "metadata": {},
   "outputs": [
    {
     "data": {
      "text/plain": [
       "str"
      ]
     },
     "execution_count": 4,
     "metadata": {},
     "output_type": "execute_result"
    }
   ],
   "source": [
    "type(name)"
   ]
  },
  {
   "cell_type": "code",
   "execution_count": 6,
   "id": "e2632a69",
   "metadata": {},
   "outputs": [
    {
     "name": "stdout",
     "output_type": "stream",
     "text": [
      "The printed name is Cky\n"
     ]
    }
   ],
   "source": [
    "print('The printed name is', name)"
   ]
  }
 ],
 "metadata": {
  "kernelspec": {
   "display_name": "Python 3 (ipykernel)",
   "language": "python",
   "name": "python3"
  },
  "language_info": {
   "codemirror_mode": {
    "name": "ipython",
    "version": 3
   },
   "file_extension": ".py",
   "mimetype": "text/x-python",
   "name": "python",
   "nbconvert_exporter": "python",
   "pygments_lexer": "ipython3",
   "version": "3.10.9"
  }
 },
 "nbformat": 4,
 "nbformat_minor": 5
}
