{
 "cells": [
  {
   "cell_type": "markdown",
   "id": "69678e6a",
   "metadata": {},
   "source": [
    "# Comparing values in Python\n",
    "* Using **>, <, >=, <=, !=, ==** operators to compare between values\n",
    "* Output: **bool** value(**True** or **False**)"
   ]
  },
  {
   "cell_type": "code",
   "execution_count": 1,
   "id": "f71e2ffa",
   "metadata": {},
   "outputs": [],
   "source": [
    "x = 10\n",
    "y = 20"
   ]
  },
  {
   "cell_type": "code",
   "execution_count": 2,
   "id": "4b9cdef8",
   "metadata": {},
   "outputs": [
    {
     "data": {
      "text/plain": [
       "False"
      ]
     },
     "execution_count": 2,
     "metadata": {},
     "output_type": "execute_result"
    }
   ],
   "source": [
    "x > y"
   ]
  },
  {
   "cell_type": "code",
   "execution_count": 3,
   "id": "2b59b579",
   "metadata": {},
   "outputs": [
    {
     "data": {
      "text/plain": [
       "True"
      ]
     },
     "execution_count": 3,
     "metadata": {},
     "output_type": "execute_result"
    }
   ],
   "source": [
    "x < y"
   ]
  },
  {
   "cell_type": "code",
   "execution_count": 4,
   "id": "55c4aba7",
   "metadata": {},
   "outputs": [
    {
     "data": {
      "text/plain": [
       "False"
      ]
     },
     "execution_count": 4,
     "metadata": {},
     "output_type": "execute_result"
    }
   ],
   "source": [
    "x >= y"
   ]
  },
  {
   "cell_type": "code",
   "execution_count": 5,
   "id": "95550523",
   "metadata": {},
   "outputs": [
    {
     "data": {
      "text/plain": [
       "True"
      ]
     },
     "execution_count": 5,
     "metadata": {},
     "output_type": "execute_result"
    }
   ],
   "source": [
    "x <= y"
   ]
  },
  {
   "cell_type": "code",
   "execution_count": 6,
   "id": "2e74522b",
   "metadata": {},
   "outputs": [
    {
     "data": {
      "text/plain": [
       "True"
      ]
     },
     "execution_count": 6,
     "metadata": {},
     "output_type": "execute_result"
    }
   ],
   "source": [
    "x != y"
   ]
  },
  {
   "cell_type": "code",
   "execution_count": 7,
   "id": "28ff3acb",
   "metadata": {},
   "outputs": [
    {
     "data": {
      "text/plain": [
       "False"
      ]
     },
     "execution_count": 7,
     "metadata": {},
     "output_type": "execute_result"
    }
   ],
   "source": [
    "x == y"
   ]
  },
  {
   "cell_type": "code",
   "execution_count": 8,
   "id": "a44bc862",
   "metadata": {},
   "outputs": [
    {
     "data": {
      "text/plain": [
       "bool"
      ]
     },
     "execution_count": 8,
     "metadata": {},
     "output_type": "execute_result"
    }
   ],
   "source": [
    "type(x == y)"
   ]
  },
  {
   "cell_type": "code",
   "execution_count": 9,
   "id": "8bb8ac65",
   "metadata": {},
   "outputs": [
    {
     "name": "stdout",
     "output_type": "stream",
     "text": [
      "<class 'bool'>\n"
     ]
    }
   ],
   "source": [
    "print(type(x < y))"
   ]
  },
  {
   "cell_type": "code",
   "execution_count": 10,
   "id": "c01af81b",
   "metadata": {},
   "outputs": [
    {
     "data": {
      "text/plain": [
       "True"
      ]
     },
     "execution_count": 10,
     "metadata": {},
     "output_type": "execute_result"
    }
   ],
   "source": [
    "'c' == 'c'"
   ]
  },
  {
   "cell_type": "code",
   "execution_count": 11,
   "id": "c8d05193",
   "metadata": {},
   "outputs": [
    {
     "data": {
      "text/plain": [
       "False"
      ]
     },
     "execution_count": 11,
     "metadata": {},
     "output_type": "execute_result"
    }
   ],
   "source": [
    "'c' == 'd'"
   ]
  },
  {
   "cell_type": "code",
   "execution_count": 12,
   "id": "a9fd6099",
   "metadata": {},
   "outputs": [
    {
     "data": {
      "text/plain": [
       "False"
      ]
     },
     "execution_count": 12,
     "metadata": {},
     "output_type": "execute_result"
    }
   ],
   "source": [
    "'c' > 'd'"
   ]
  },
  {
   "cell_type": "code",
   "execution_count": 13,
   "id": "06b27ffd",
   "metadata": {},
   "outputs": [
    {
     "data": {
      "text/plain": [
       "True"
      ]
     },
     "execution_count": 13,
     "metadata": {},
     "output_type": "execute_result"
    }
   ],
   "source": [
    "'c' < 'd'"
   ]
  },
  {
   "cell_type": "code",
   "execution_count": 14,
   "id": "4c3eb7d6",
   "metadata": {},
   "outputs": [
    {
     "data": {
      "text/plain": [
       "bool"
      ]
     },
     "execution_count": 14,
     "metadata": {},
     "output_type": "execute_result"
    }
   ],
   "source": [
    "type('c' < 'f')"
   ]
  },
  {
   "cell_type": "markdown",
   "id": "7abb13d3",
   "metadata": {},
   "source": [
    "# Logical Operators\n",
    "* **and** operator: True both sides are True\n",
    "* **or** operator: True if any side is True or both are True\n",
    "* **not** operator: To reverse the value"
   ]
  },
  {
   "cell_type": "code",
   "execution_count": 1,
   "id": "84000431",
   "metadata": {},
   "outputs": [
    {
     "data": {
      "text/plain": [
       "True"
      ]
     },
     "execution_count": 1,
     "metadata": {},
     "output_type": "execute_result"
    }
   ],
   "source": [
    "3 > 2 and 10 <= 12"
   ]
  },
  {
   "cell_type": "code",
   "execution_count": 2,
   "id": "0c3de35c",
   "metadata": {},
   "outputs": [
    {
     "data": {
      "text/plain": [
       "False"
      ]
     },
     "execution_count": 2,
     "metadata": {},
     "output_type": "execute_result"
    }
   ],
   "source": [
    "3 < 2 and 10 <= 12"
   ]
  },
  {
   "cell_type": "code",
   "execution_count": 4,
   "id": "d942f118",
   "metadata": {},
   "outputs": [
    {
     "data": {
      "text/plain": [
       "False"
      ]
     },
     "execution_count": 4,
     "metadata": {},
     "output_type": "execute_result"
    }
   ],
   "source": [
    "3 < 2 and 10 >= 12"
   ]
  },
  {
   "cell_type": "code",
   "execution_count": 5,
   "id": "5ef1653c",
   "metadata": {},
   "outputs": [
    {
     "data": {
      "text/plain": [
       "True"
      ]
     },
     "execution_count": 5,
     "metadata": {},
     "output_type": "execute_result"
    }
   ],
   "source": [
    "True and True"
   ]
  },
  {
   "cell_type": "code",
   "execution_count": 6,
   "id": "4f41c4cf",
   "metadata": {},
   "outputs": [
    {
     "data": {
      "text/plain": [
       "False"
      ]
     },
     "execution_count": 6,
     "metadata": {},
     "output_type": "execute_result"
    }
   ],
   "source": [
    "True and False"
   ]
  },
  {
   "cell_type": "code",
   "execution_count": 7,
   "id": "21ca771b",
   "metadata": {},
   "outputs": [
    {
     "data": {
      "text/plain": [
       "False"
      ]
     },
     "execution_count": 7,
     "metadata": {},
     "output_type": "execute_result"
    }
   ],
   "source": [
    "False and False"
   ]
  },
  {
   "cell_type": "code",
   "execution_count": 8,
   "id": "950fef07",
   "metadata": {},
   "outputs": [
    {
     "data": {
      "text/plain": [
       "True"
      ]
     },
     "execution_count": 8,
     "metadata": {},
     "output_type": "execute_result"
    }
   ],
   "source": [
    "3 < 2 or 10 <=12"
   ]
  },
  {
   "cell_type": "code",
   "execution_count": 9,
   "id": "d4a5405d",
   "metadata": {},
   "outputs": [
    {
     "data": {
      "text/plain": [
       "True"
      ]
     },
     "execution_count": 9,
     "metadata": {},
     "output_type": "execute_result"
    }
   ],
   "source": [
    "3 > 2 or 10 <=12"
   ]
  },
  {
   "cell_type": "code",
   "execution_count": 10,
   "id": "bdb0f262",
   "metadata": {},
   "outputs": [
    {
     "data": {
      "text/plain": [
       "False"
      ]
     },
     "execution_count": 10,
     "metadata": {},
     "output_type": "execute_result"
    }
   ],
   "source": [
    "3 < 2 or 10 >=12"
   ]
  },
  {
   "cell_type": "code",
   "execution_count": 11,
   "id": "05927d30",
   "metadata": {},
   "outputs": [
    {
     "data": {
      "text/plain": [
       "False"
      ]
     },
     "execution_count": 11,
     "metadata": {},
     "output_type": "execute_result"
    }
   ],
   "source": [
    "not True"
   ]
  },
  {
   "cell_type": "code",
   "execution_count": 12,
   "id": "ef634a82",
   "metadata": {},
   "outputs": [
    {
     "data": {
      "text/plain": [
       "True"
      ]
     },
     "execution_count": 12,
     "metadata": {},
     "output_type": "execute_result"
    }
   ],
   "source": [
    "not True != True"
   ]
  },
  {
   "cell_type": "code",
   "execution_count": 13,
   "id": "883c6af5",
   "metadata": {},
   "outputs": [
    {
     "data": {
      "text/plain": [
       "True"
      ]
     },
     "execution_count": 13,
     "metadata": {},
     "output_type": "execute_result"
    }
   ],
   "source": [
    "not True == False"
   ]
  },
  {
   "cell_type": "markdown",
   "id": "36eff256",
   "metadata": {},
   "source": [
    "# Conditional Statements\n",
    "* Using Conditional statements for decision making and execute blocks based on conditions\n",
    "* Use conditional if, elif, and else keywords"
   ]
  },
  {
   "cell_type": "code",
   "execution_count": 14,
   "id": "38df7226",
   "metadata": {},
   "outputs": [
    {
     "name": "stdout",
     "output_type": "stream",
     "text": [
      "This is True\n"
     ]
    }
   ],
   "source": [
    "if True:\n",
    "    print('This is True')"
   ]
  },
  {
   "cell_type": "code",
   "execution_count": 15,
   "id": "af3f6565",
   "metadata": {},
   "outputs": [
    {
     "name": "stdout",
     "output_type": "stream",
     "text": [
      "10 is equal to 5 multiplied by 2\n"
     ]
    }
   ],
   "source": [
    "if 10 == 5 * 2:\n",
    "    print('10 is equal to 5 multiplied by 2')"
   ]
  },
  {
   "cell_type": "code",
   "execution_count": 16,
   "id": "c8769329",
   "metadata": {},
   "outputs": [],
   "source": [
    "if 10 == 3*2:\n",
    "    print('This is not executed')"
   ]
  },
  {
   "cell_type": "code",
   "execution_count": 17,
   "id": "410c2e76",
   "metadata": {},
   "outputs": [
    {
     "name": "stdout",
     "output_type": "stream",
     "text": [
      "The string will be executed\n",
      "Thanks for finishing the process\n"
     ]
    }
   ],
   "source": [
    "x = 15\n",
    "if x >= 10:\n",
    "    print('The string will be executed')\n",
    "print('Thanks for finishing the process')"
   ]
  },
  {
   "cell_type": "code",
   "execution_count": 18,
   "id": "04dc82eb",
   "metadata": {},
   "outputs": [
    {
     "name": "stdout",
     "output_type": "stream",
     "text": [
      "Sorry, you failed\n",
      "Thanks for joining us\n"
     ]
    }
   ],
   "source": [
    "x = 20\n",
    "if x >= 30:\n",
    "    print('You are succeeded')\n",
    "if x < 30:\n",
    "    print('Sorry, you failed')\n",
    "print('Thanks for joining us')"
   ]
  },
  {
   "cell_type": "code",
   "execution_count": 19,
   "id": "236e0131",
   "metadata": {},
   "outputs": [
    {
     "name": "stdout",
     "output_type": "stream",
     "text": [
      "Sorry, you failed\n",
      "Thanks for joining us\n"
     ]
    }
   ],
   "source": [
    "x = 20\n",
    "if x >= 30:\n",
    "    print('You are succeeded')\n",
    "else:\n",
    "    print('Sorry, you failed')\n",
    "print('Thanks for joining us')"
   ]
  },
  {
   "cell_type": "code",
   "execution_count": 20,
   "id": "4be0aa64",
   "metadata": {},
   "outputs": [
    {
     "name": "stdout",
     "output_type": "stream",
     "text": [
      "You are in the middle\n",
      "Thanks for joining us\n"
     ]
    }
   ],
   "source": [
    "x = 30\n",
    "if x > 30:\n",
    "    print('You are succeeded')\n",
    "elif x == 30:\n",
    "    print('You are in the middle')\n",
    "else:\n",
    "    print('Sorry, you failed')\n",
    "print('Thanks for joining us')"
   ]
  },
  {
   "cell_type": "markdown",
   "id": "15cab9e5",
   "metadata": {},
   "source": [
    "# While Loop\n",
    "* Loop types: **while** and **for** loops\n",
    "* Repeat a block of code based on condition\n",
    "* Start the while loop with the **while** keyword"
   ]
  },
  {
   "cell_type": "code",
   "execution_count": 21,
   "id": "49ababa7",
   "metadata": {},
   "outputs": [
    {
     "name": "stdout",
     "output_type": "stream",
     "text": [
      "1\n",
      "2\n",
      "3\n",
      "4\n",
      "5\n",
      "6\n"
     ]
    }
   ],
   "source": [
    "x =  1\n",
    "\n",
    "while x < 7:\n",
    "    print(x)\n",
    "    x = x + 1"
   ]
  },
  {
   "cell_type": "markdown",
   "id": "adbe39e4",
   "metadata": {},
   "source": [
    "# The for Loop\n",
    "* Execute a portion of code once for each element in sequence of elements or iterate over collections\n",
    "* Use the **for** keyword to start the for loop"
   ]
  },
  {
   "cell_type": "code",
   "execution_count": 22,
   "id": "6df89ddd",
   "metadata": {},
   "outputs": [
    {
     "name": "stdout",
     "output_type": "stream",
     "text": [
      "P\n",
      "r\n",
      "o\n",
      "g\n",
      "r\n",
      "a\n",
      "m\n",
      "m\n",
      "i\n",
      "n\n",
      "g\n"
     ]
    }
   ],
   "source": [
    "for  chars in 'Programming':\n",
    "    print(chars)\n"
   ]
  },
  {
   "cell_type": "code",
   "execution_count": 23,
   "id": "5e8127b7",
   "metadata": {},
   "outputs": [
    {
     "name": "stdout",
     "output_type": "stream",
     "text": [
      "Programming\n",
      "Programming\n",
      "Programming\n",
      "Programming\n",
      "Programming\n"
     ]
    }
   ],
   "source": [
    "for i in range(5):\n",
    "    print('Programming')"
   ]
  },
  {
   "cell_type": "code",
   "execution_count": 24,
   "id": "36bf629e",
   "metadata": {},
   "outputs": [
    {
     "name": "stdout",
     "output_type": "stream",
     "text": [
      "10\n",
      "12\n",
      "14\n",
      "16\n",
      "18\n",
      "20\n",
      "22\n",
      "24\n",
      "26\n",
      "28\n"
     ]
    }
   ],
   "source": [
    "for i in range(5, 15):\n",
    "    print(i + i)"
   ]
  },
  {
   "cell_type": "code",
   "execution_count": 25,
   "id": "47ae06b6",
   "metadata": {},
   "outputs": [
    {
     "name": "stdout",
     "output_type": "stream",
     "text": [
      "1\n",
      "2\n",
      "3\n"
     ]
    }
   ],
   "source": [
    "for i in [1, 2, 3]:\n",
    "    print(i)"
   ]
  },
  {
   "cell_type": "markdown",
   "id": "ed8cb080",
   "metadata": {},
   "source": [
    "# Built-in Functions\n",
    "* Function: block of related statements to perform actions\n",
    "* Function types: **Built-in** and **User-Defined** Functions\n",
    "* Call it to work and you can  call it many time"
   ]
  },
  {
   "cell_type": "code",
   "execution_count": 26,
   "id": "710426da",
   "metadata": {},
   "outputs": [
    {
     "data": {
      "text/plain": [
       "11"
      ]
     },
     "execution_count": 26,
     "metadata": {},
     "output_type": "execute_result"
    }
   ],
   "source": [
    "abs(11)"
   ]
  },
  {
   "cell_type": "code",
   "execution_count": 27,
   "id": "61866d4d",
   "metadata": {},
   "outputs": [
    {
     "data": {
      "text/plain": [
       "12.48"
      ]
     },
     "execution_count": 27,
     "metadata": {},
     "output_type": "execute_result"
    }
   ],
   "source": [
    "abs(-12.48)"
   ]
  },
  {
   "cell_type": "code",
   "execution_count": 28,
   "id": "4a55a67a",
   "metadata": {},
   "outputs": [
    {
     "data": {
      "text/plain": [
       "True"
      ]
     },
     "execution_count": 28,
     "metadata": {},
     "output_type": "execute_result"
    }
   ],
   "source": [
    "bool(1)"
   ]
  },
  {
   "cell_type": "code",
   "execution_count": 29,
   "id": "1d3adb81",
   "metadata": {},
   "outputs": [
    {
     "data": {
      "text/plain": [
       "False"
      ]
     },
     "execution_count": 29,
     "metadata": {},
     "output_type": "execute_result"
    }
   ],
   "source": [
    "bool(0)"
   ]
  },
  {
   "cell_type": "code",
   "execution_count": 30,
   "id": "8a5cedb7",
   "metadata": {},
   "outputs": [
    {
     "data": {
      "text/plain": [
       "(3+4j)"
      ]
     },
     "execution_count": 30,
     "metadata": {},
     "output_type": "execute_result"
    }
   ],
   "source": [
    "complex(3, 4)"
   ]
  },
  {
   "cell_type": "code",
   "execution_count": 32,
   "id": "99761d46",
   "metadata": {},
   "outputs": [],
   "source": [
    "x = dict(name = 'Constanza', age = 28)"
   ]
  },
  {
   "cell_type": "code",
   "execution_count": 33,
   "id": "30e289a5",
   "metadata": {},
   "outputs": [
    {
     "data": {
      "text/plain": [
       "{'name': 'Constanza', 'age': 28}"
      ]
     },
     "execution_count": 33,
     "metadata": {},
     "output_type": "execute_result"
    }
   ],
   "source": [
    "x"
   ]
  },
  {
   "cell_type": "code",
   "execution_count": 34,
   "id": "7bced09e",
   "metadata": {},
   "outputs": [
    {
     "data": {
      "text/plain": [
       "['__class__',\n",
       " '__class_getitem__',\n",
       " '__contains__',\n",
       " '__delattr__',\n",
       " '__delitem__',\n",
       " '__dir__',\n",
       " '__doc__',\n",
       " '__eq__',\n",
       " '__format__',\n",
       " '__ge__',\n",
       " '__getattribute__',\n",
       " '__getitem__',\n",
       " '__gt__',\n",
       " '__hash__',\n",
       " '__init__',\n",
       " '__init_subclass__',\n",
       " '__ior__',\n",
       " '__iter__',\n",
       " '__le__',\n",
       " '__len__',\n",
       " '__lt__',\n",
       " '__ne__',\n",
       " '__new__',\n",
       " '__or__',\n",
       " '__reduce__',\n",
       " '__reduce_ex__',\n",
       " '__repr__',\n",
       " '__reversed__',\n",
       " '__ror__',\n",
       " '__setattr__',\n",
       " '__setitem__',\n",
       " '__sizeof__',\n",
       " '__str__',\n",
       " '__subclasshook__',\n",
       " 'clear',\n",
       " 'copy',\n",
       " 'fromkeys',\n",
       " 'get',\n",
       " 'items',\n",
       " 'keys',\n",
       " 'pop',\n",
       " 'popitem',\n",
       " 'setdefault',\n",
       " 'update',\n",
       " 'values']"
      ]
     },
     "execution_count": 34,
     "metadata": {},
     "output_type": "execute_result"
    }
   ],
   "source": [
    "dir(x)"
   ]
  },
  {
   "cell_type": "code",
   "execution_count": 36,
   "id": "6d5a7ce0",
   "metadata": {},
   "outputs": [
    {
     "ename": "KeyboardInterrupt",
     "evalue": "Interrupted by user",
     "output_type": "error",
     "traceback": [
      "\u001b[1;31m---------------------------------------------------------------------------\u001b[0m",
      "\u001b[1;31mKeyboardInterrupt\u001b[0m                         Traceback (most recent call last)",
      "Cell \u001b[1;32mIn[36], line 1\u001b[0m\n\u001b[1;32m----> 1\u001b[0m x \u001b[38;5;241m=\u001b[39m \u001b[38;5;28;43minput\u001b[39;49m\u001b[43m(\u001b[49m\u001b[38;5;124;43m'\u001b[39;49m\u001b[38;5;124;43mEntered name:\u001b[39;49m\u001b[38;5;124;43m'\u001b[39;49m\u001b[43m)\u001b[49m\n",
      "File \u001b[1;32m~\\anaconda3\\lib\\site-packages\\ipykernel\\kernelbase.py:1175\u001b[0m, in \u001b[0;36mKernel.raw_input\u001b[1;34m(self, prompt)\u001b[0m\n\u001b[0;32m   1171\u001b[0m \u001b[38;5;28;01mif\u001b[39;00m \u001b[38;5;129;01mnot\u001b[39;00m \u001b[38;5;28mself\u001b[39m\u001b[38;5;241m.\u001b[39m_allow_stdin:\n\u001b[0;32m   1172\u001b[0m     \u001b[38;5;28;01mraise\u001b[39;00m StdinNotImplementedError(\n\u001b[0;32m   1173\u001b[0m         \u001b[38;5;124m\"\u001b[39m\u001b[38;5;124mraw_input was called, but this frontend does not support input requests.\u001b[39m\u001b[38;5;124m\"\u001b[39m\n\u001b[0;32m   1174\u001b[0m     )\n\u001b[1;32m-> 1175\u001b[0m \u001b[38;5;28;01mreturn\u001b[39;00m \u001b[38;5;28;43mself\u001b[39;49m\u001b[38;5;241;43m.\u001b[39;49m\u001b[43m_input_request\u001b[49m\u001b[43m(\u001b[49m\n\u001b[0;32m   1176\u001b[0m \u001b[43m    \u001b[49m\u001b[38;5;28;43mstr\u001b[39;49m\u001b[43m(\u001b[49m\u001b[43mprompt\u001b[49m\u001b[43m)\u001b[49m\u001b[43m,\u001b[49m\n\u001b[0;32m   1177\u001b[0m \u001b[43m    \u001b[49m\u001b[38;5;28;43mself\u001b[39;49m\u001b[38;5;241;43m.\u001b[39;49m\u001b[43m_parent_ident\u001b[49m\u001b[43m[\u001b[49m\u001b[38;5;124;43m\"\u001b[39;49m\u001b[38;5;124;43mshell\u001b[39;49m\u001b[38;5;124;43m\"\u001b[39;49m\u001b[43m]\u001b[49m\u001b[43m,\u001b[49m\n\u001b[0;32m   1178\u001b[0m \u001b[43m    \u001b[49m\u001b[38;5;28;43mself\u001b[39;49m\u001b[38;5;241;43m.\u001b[39;49m\u001b[43mget_parent\u001b[49m\u001b[43m(\u001b[49m\u001b[38;5;124;43m\"\u001b[39;49m\u001b[38;5;124;43mshell\u001b[39;49m\u001b[38;5;124;43m\"\u001b[39;49m\u001b[43m)\u001b[49m\u001b[43m,\u001b[49m\n\u001b[0;32m   1179\u001b[0m \u001b[43m    \u001b[49m\u001b[43mpassword\u001b[49m\u001b[38;5;241;43m=\u001b[39;49m\u001b[38;5;28;43;01mFalse\u001b[39;49;00m\u001b[43m,\u001b[49m\n\u001b[0;32m   1180\u001b[0m \u001b[43m\u001b[49m\u001b[43m)\u001b[49m\n",
      "File \u001b[1;32m~\\anaconda3\\lib\\site-packages\\ipykernel\\kernelbase.py:1217\u001b[0m, in \u001b[0;36mKernel._input_request\u001b[1;34m(self, prompt, ident, parent, password)\u001b[0m\n\u001b[0;32m   1214\u001b[0m             \u001b[38;5;28;01mbreak\u001b[39;00m\n\u001b[0;32m   1215\u001b[0m \u001b[38;5;28;01mexcept\u001b[39;00m \u001b[38;5;167;01mKeyboardInterrupt\u001b[39;00m:\n\u001b[0;32m   1216\u001b[0m     \u001b[38;5;66;03m# re-raise KeyboardInterrupt, to truncate traceback\u001b[39;00m\n\u001b[1;32m-> 1217\u001b[0m     \u001b[38;5;28;01mraise\u001b[39;00m \u001b[38;5;167;01mKeyboardInterrupt\u001b[39;00m(\u001b[38;5;124m\"\u001b[39m\u001b[38;5;124mInterrupted by user\u001b[39m\u001b[38;5;124m\"\u001b[39m) \u001b[38;5;28;01mfrom\u001b[39;00m \u001b[38;5;28mNone\u001b[39m\n\u001b[0;32m   1218\u001b[0m \u001b[38;5;28;01mexcept\u001b[39;00m \u001b[38;5;167;01mException\u001b[39;00m:\n\u001b[0;32m   1219\u001b[0m     \u001b[38;5;28mself\u001b[39m\u001b[38;5;241m.\u001b[39mlog\u001b[38;5;241m.\u001b[39mwarning(\u001b[38;5;124m\"\u001b[39m\u001b[38;5;124mInvalid Message:\u001b[39m\u001b[38;5;124m\"\u001b[39m, exc_info\u001b[38;5;241m=\u001b[39m\u001b[38;5;28;01mTrue\u001b[39;00m)\n",
      "\u001b[1;31mKeyboardInterrupt\u001b[0m: Interrupted by user"
     ]
    }
   ],
   "source": [
    "x = input('Entered name:')"
   ]
  },
  {
   "cell_type": "code",
   "execution_count": 37,
   "id": "249925ed",
   "metadata": {},
   "outputs": [
    {
     "name": "stdout",
     "output_type": "stream",
     "text": [
      "Hi, Functions\n"
     ]
    }
   ],
   "source": [
    "print('Hi, Functions')"
   ]
  },
  {
   "cell_type": "code",
   "execution_count": 38,
   "id": "84973709",
   "metadata": {},
   "outputs": [
    {
     "data": {
      "text/plain": [
       "6"
      ]
     },
     "execution_count": 38,
     "metadata": {},
     "output_type": "execute_result"
    }
   ],
   "source": [
    "sum([1, 2, 3])"
   ]
  },
  {
   "cell_type": "code",
   "execution_count": 39,
   "id": "13f2b82c",
   "metadata": {},
   "outputs": [
    {
     "name": "stdout",
     "output_type": "stream",
     "text": [
      "[(1, 4), (2, 5), (3, 6)]\n"
     ]
    }
   ],
   "source": [
    "x = [1, 2, 3]\n",
    "y = [4, 5, 6]\n",
    "\n",
    "z = zip(x, y)\n",
    "print(list(z))"
   ]
  },
  {
   "cell_type": "markdown",
   "id": "280e9694",
   "metadata": {},
   "source": [
    "# User-Defined Functions\n",
    "* Series of related statements\n",
    "* Start with the **def** keyword\n",
    "* Call it to work as many as you wish"
   ]
  },
  {
   "cell_type": "code",
   "execution_count": 40,
   "id": "6a6fd6a8",
   "metadata": {},
   "outputs": [],
   "source": [
    "def addition(x, y):\n",
    "    \"Return the sum of x and y back to the caller\"\n",
    "    add = x + y\n",
    "    return add\n"
   ]
  },
  {
   "cell_type": "code",
   "execution_count": 41,
   "id": "9142742a",
   "metadata": {},
   "outputs": [
    {
     "data": {
      "text/plain": [
       "14"
      ]
     },
     "execution_count": 41,
     "metadata": {},
     "output_type": "execute_result"
    }
   ],
   "source": [
    "addition(10, 4)"
   ]
  },
  {
   "cell_type": "code",
   "execution_count": 42,
   "id": "468da712",
   "metadata": {},
   "outputs": [
    {
     "name": "stdout",
     "output_type": "stream",
     "text": [
      "50\n"
     ]
    }
   ],
   "source": [
    "print(addition(20, 30))"
   ]
  },
  {
   "cell_type": "code",
   "execution_count": 44,
   "id": "bc94b8bf",
   "metadata": {},
   "outputs": [
    {
     "name": "stdout",
     "output_type": "stream",
     "text": [
      "Help on function addition in module __main__:\n",
      "\n",
      "addition(x, y)\n",
      "    Return the sum of x and y back to the caller\n",
      "\n"
     ]
    }
   ],
   "source": [
    "help(addition)"
   ]
  },
  {
   "cell_type": "code",
   "execution_count": 48,
   "id": "20c76512",
   "metadata": {},
   "outputs": [],
   "source": [
    "x = 20\n",
    "def new():\n",
    "    global x\n",
    "    x = 5\n",
    "    print(x)"
   ]
  },
  {
   "cell_type": "code",
   "execution_count": 49,
   "id": "841ce1f2",
   "metadata": {},
   "outputs": [
    {
     "name": "stdout",
     "output_type": "stream",
     "text": [
      "5\n"
     ]
    }
   ],
   "source": [
    "new()"
   ]
  },
  {
   "cell_type": "code",
   "execution_count": 50,
   "id": "15221540",
   "metadata": {},
   "outputs": [
    {
     "name": "stdout",
     "output_type": "stream",
     "text": [
      "5\n"
     ]
    }
   ],
   "source": [
    "print(x)"
   ]
  },
  {
   "cell_type": "markdown",
   "id": "1b66c8bd",
   "metadata": {},
   "source": [
    "# Lambda\n",
    "* Function without name\n",
    "* **Lambda** keyword\n",
    "* Any numbers of arguments\n",
    "* Only a single expression\n",
    "* **lambda** arguments: expression\n",
    "* Return function objects"
   ]
  },
  {
   "cell_type": "code",
   "execution_count": 51,
   "id": "623da9a6",
   "metadata": {},
   "outputs": [],
   "source": [
    "multiply = lambda x: x * 20"
   ]
  },
  {
   "cell_type": "code",
   "execution_count": 52,
   "id": "8f534ab8",
   "metadata": {},
   "outputs": [
    {
     "name": "stdout",
     "output_type": "stream",
     "text": [
      "40\n"
     ]
    }
   ],
   "source": [
    "print(multiply(2))"
   ]
  },
  {
   "cell_type": "code",
   "execution_count": 53,
   "id": "cd406d66",
   "metadata": {},
   "outputs": [
    {
     "name": "stdout",
     "output_type": "stream",
     "text": [
      "60\n"
     ]
    }
   ],
   "source": [
    "print(multiply(3))"
   ]
  },
  {
   "cell_type": "code",
   "execution_count": 54,
   "id": "fded4454",
   "metadata": {},
   "outputs": [],
   "source": [
    "remaind = lambda n: n % 2"
   ]
  },
  {
   "cell_type": "code",
   "execution_count": 55,
   "id": "a6f7b19d",
   "metadata": {},
   "outputs": [
    {
     "name": "stdout",
     "output_type": "stream",
     "text": [
      "1\n"
     ]
    }
   ],
   "source": [
    "print(remaind(11))"
   ]
  },
  {
   "cell_type": "code",
   "execution_count": 56,
   "id": "d153d5bd",
   "metadata": {},
   "outputs": [
    {
     "name": "stdout",
     "output_type": "stream",
     "text": [
      "0\n"
     ]
    }
   ],
   "source": [
    "print(remaind(20))"
   ]
  },
  {
   "cell_type": "code",
   "execution_count": 57,
   "id": "533f868a",
   "metadata": {},
   "outputs": [],
   "source": [
    "def testing(n):\n",
    "    return lambda i: i * n"
   ]
  },
  {
   "cell_type": "code",
   "execution_count": 58,
   "id": "c04d1e49",
   "metadata": {},
   "outputs": [],
   "source": [
    "r1 = testing(12)"
   ]
  },
  {
   "cell_type": "code",
   "execution_count": 59,
   "id": "145c133b",
   "metadata": {},
   "outputs": [
    {
     "name": "stdout",
     "output_type": "stream",
     "text": [
      "60\n"
     ]
    }
   ],
   "source": [
    "print(r1(5))"
   ]
  },
  {
   "cell_type": "code",
   "execution_count": 60,
   "id": "88772059",
   "metadata": {},
   "outputs": [],
   "source": [
    "r1 = testing(120)\n",
    "r2 = testing(200)"
   ]
  },
  {
   "cell_type": "code",
   "execution_count": 61,
   "id": "6e577fca",
   "metadata": {},
   "outputs": [
    {
     "name": "stdout",
     "output_type": "stream",
     "text": [
      "600\n"
     ]
    }
   ],
   "source": [
    "print(r1(5))"
   ]
  },
  {
   "cell_type": "code",
   "execution_count": 62,
   "id": "334e3a30",
   "metadata": {},
   "outputs": [
    {
     "name": "stdout",
     "output_type": "stream",
     "text": [
      "2000\n"
     ]
    }
   ],
   "source": [
    "print(r2(10))"
   ]
  },
  {
   "cell_type": "markdown",
   "id": "c9937da8",
   "metadata": {},
   "source": [
    "# Using break statements\n",
    "* Using **break** statement to break out a loop in a condition\n",
    "* You can break while loop and for loop to stop the loop"
   ]
  },
  {
   "cell_type": "code",
   "execution_count": 63,
   "id": "a9103376",
   "metadata": {},
   "outputs": [
    {
     "name": "stdout",
     "output_type": "stream",
     "text": [
      "0\n",
      "1\n",
      "2\n",
      "The last number in the loop is 3\n"
     ]
    }
   ],
   "source": [
    "for x in range(0, 5):\n",
    "    if x == 3:\n",
    "        break\n",
    "    print(x)\n",
    "print(f\"The last number in the loop is {x}\")"
   ]
  },
  {
   "cell_type": "markdown",
   "id": "840fff7b",
   "metadata": {},
   "source": [
    "# Using continue statements\n",
    "Use **continue** keyword to skip the remaining value and continue with the next"
   ]
  },
  {
   "cell_type": "code",
   "execution_count": 65,
   "id": "00e2a44c",
   "metadata": {},
   "outputs": [
    {
     "name": "stdout",
     "output_type": "stream",
     "text": [
      "0\n",
      "1\n",
      "2\n",
      "4\n",
      "5\n",
      "6\n",
      "The last number in the loop is x = 6\n"
     ]
    }
   ],
   "source": [
    "for x in range(0, 7):\n",
    "    if x == 3:\n",
    "        continue\n",
    "    print(x)\n",
    "print(f\"The last number in the loop is x = {x}\")"
   ]
  },
  {
   "cell_type": "markdown",
   "id": "ba2706c7",
   "metadata": {},
   "source": [
    "# Using for ...else\n",
    "Use **else** with for loop when the loop is not terminated by break"
   ]
  },
  {
   "cell_type": "code",
   "execution_count": 67,
   "id": "a02a663a",
   "metadata": {},
   "outputs": [
    {
     "name": "stdout",
     "output_type": "stream",
     "text": [
      "There is no V\n"
     ]
    }
   ],
   "source": [
    "message = 'Python is so simple'\n",
    "\n",
    "for item in message:\n",
    "    if item == 'V':\n",
    "        break\n",
    "else:\n",
    "    print('There is no V')"
   ]
  },
  {
   "cell_type": "markdown",
   "id": "07f15ebf",
   "metadata": {},
   "source": [
    "# The Password Checking Example\n",
    "Use for with range(), input(), if, print() and else"
   ]
  },
  {
   "cell_type": "code",
   "execution_count": 72,
   "id": "d180a445",
   "metadata": {},
   "outputs": [
    {
     "name": "stdout",
     "output_type": "stream",
     "text": [
      "Enter Pass: 234\n",
      "Error, This is not correct... Try again\n",
      "Enter Pass: 234\n",
      "Error, This is not correct... Try again\n",
      "Enter Pass: 234\n",
      "Error, This is not correct... Try again\n",
      "Enter Pass: 234\n",
      "Error, This is not correct... Try again\n",
      "The process is completed. Thanks\n"
     ]
    }
   ],
   "source": [
    "for x in range(4):\n",
    "    password = input('Enter Pass: ')\n",
    "    if password == '123':\n",
    "        break\n",
    "    print('Error, This is not correct... Try again')\n",
    "else:\n",
    "    print('The process is completed. Thanks')"
   ]
  },
  {
   "cell_type": "code",
   "execution_count": 76,
   "id": "89884bce",
   "metadata": {},
   "outputs": [
    {
     "name": "stdout",
     "output_type": "stream",
     "text": [
      "Thanks, completed!\n"
     ]
    }
   ],
   "source": [
    "n = 0\n",
    "\n",
    "while False :\n",
    "\n",
    "     n = n + 1\n",
    "\n",
    "print('Thanks, completed!')"
   ]
  },
  {
   "cell_type": "code",
   "execution_count": null,
   "id": "634e5409",
   "metadata": {},
   "outputs": [],
   "source": []
  }
 ],
 "metadata": {
  "kernelspec": {
   "display_name": "Python 3 (ipykernel)",
   "language": "python",
   "name": "python3"
  },
  "language_info": {
   "codemirror_mode": {
    "name": "ipython",
    "version": 3
   },
   "file_extension": ".py",
   "mimetype": "text/x-python",
   "name": "python",
   "nbconvert_exporter": "python",
   "pygments_lexer": "ipython3",
   "version": "3.10.9"
  }
 },
 "nbformat": 4,
 "nbformat_minor": 5
}
